{
 "cells": [
  {
   "cell_type": "markdown",
   "id": "d6855a8e-5bbd-45da-bb3a-a7306127de28",
   "metadata": {},
   "source": [
    "# Step 1: Importing the reqiured libraries"
   ]
  },
  {
   "cell_type": "code",
   "execution_count": 526,
   "id": "e0674198-7545-48f1-84e5-6df490cec9d4",
   "metadata": {},
   "outputs": [],
   "source": [
    "import numpy as np\n",
    "import pandas as pd\n",
    "from matplotlib import pyplot as plt\n",
    "import seaborn as sns\n",
    "\n",
    "import matplotlib.gridspec as gridspec"
   ]
  },
  {
   "cell_type": "code",
   "execution_count": null,
   "id": "031da6d9-f31e-4d72-92fa-1b29b7d43215",
   "metadata": {},
   "outputs": [],
   "source": []
  },
  {
   "cell_type": "markdown",
   "id": "4b306fa1-7069-437b-8926-751927252b8a",
   "metadata": {},
   "source": [
    "# Step 2: Load the CSV Files into DataFrames"
   ]
  },
  {
   "cell_type": "code",
   "execution_count": 5,
   "id": "469ba0cc-900b-414c-9879-32d2379d4ec2",
   "metadata": {},
   "outputs": [],
   "source": [
    "accounts = pd.read_csv('Data/accounts.csv')\n",
    "departments = pd.read_csv('Data/departments.csv')\n",
    "vendors_customers = pd.read_csv('Data/vendors_customers.csv')\n",
    "dates = pd.read_csv('Data/dates.csv')\n",
    "general_ledger = pd.read_csv('Data/general_ledger.csv')"
   ]
  },
  {
   "cell_type": "code",
   "execution_count": null,
   "id": "2aa1859b-a7f6-4ee2-baed-22f843944f66",
   "metadata": {},
   "outputs": [],
   "source": []
  },
  {
   "cell_type": "markdown",
   "id": "8e1b9616-f41e-4525-b2f4-4f606d0df856",
   "metadata": {},
   "source": [
    "# Step 3: Understand the Dataset Structure"
   ]
  },
  {
   "cell_type": "markdown",
   "id": "ca1e12b8-3c4e-4328-bf10-7bf5f785db90",
   "metadata": {},
   "source": [
    "## Checking structure and summary statistics of each dimension table"
   ]
  },
  {
   "cell_type": "code",
   "execution_count": 7,
   "id": "1598f86d-37e7-483f-86f4-481e6c6cb29a",
   "metadata": {},
   "outputs": [
    {
     "name": "stdout",
     "output_type": "stream",
     "text": [
      "<class 'pandas.core.frame.DataFrame'>\n",
      "RangeIndex: 10 entries, 0 to 9\n",
      "Data columns (total 3 columns):\n",
      " #   Column       Non-Null Count  Dtype \n",
      "---  ------       --------------  ----- \n",
      " 0   AccountID    10 non-null     int64 \n",
      " 1   AccountName  10 non-null     object\n",
      " 2   AccountType  10 non-null     object\n",
      "dtypes: int64(1), object(2)\n",
      "memory usage: 372.0+ bytes\n"
     ]
    }
   ],
   "source": [
    "accounts.info()"
   ]
  },
  {
   "cell_type": "code",
   "execution_count": 8,
   "id": "8522c334-3f15-4abd-9d8a-45bebd8e8b19",
   "metadata": {},
   "outputs": [
    {
     "data": {
      "text/html": [
       "<div>\n",
       "<style scoped>\n",
       "    .dataframe tbody tr th:only-of-type {\n",
       "        vertical-align: middle;\n",
       "    }\n",
       "\n",
       "    .dataframe tbody tr th {\n",
       "        vertical-align: top;\n",
       "    }\n",
       "\n",
       "    .dataframe thead th {\n",
       "        text-align: right;\n",
       "    }\n",
       "</style>\n",
       "<table border=\"1\" class=\"dataframe\">\n",
       "  <thead>\n",
       "    <tr style=\"text-align: right;\">\n",
       "      <th></th>\n",
       "      <th>count</th>\n",
       "      <th>mean</th>\n",
       "      <th>std</th>\n",
       "      <th>min</th>\n",
       "      <th>25%</th>\n",
       "      <th>50%</th>\n",
       "      <th>75%</th>\n",
       "      <th>max</th>\n",
       "    </tr>\n",
       "  </thead>\n",
       "  <tbody>\n",
       "    <tr>\n",
       "      <th>AccountID</th>\n",
       "      <td>10.0</td>\n",
       "      <td>1005.5</td>\n",
       "      <td>3.02765</td>\n",
       "      <td>1001.0</td>\n",
       "      <td>1003.25</td>\n",
       "      <td>1005.5</td>\n",
       "      <td>1007.75</td>\n",
       "      <td>1010.0</td>\n",
       "    </tr>\n",
       "  </tbody>\n",
       "</table>\n",
       "</div>"
      ],
      "text/plain": [
       "           count    mean      std     min      25%     50%      75%     max\n",
       "AccountID   10.0  1005.5  3.02765  1001.0  1003.25  1005.5  1007.75  1010.0"
      ]
     },
     "execution_count": 8,
     "metadata": {},
     "output_type": "execute_result"
    }
   ],
   "source": [
    "accounts.describe().T"
   ]
  },
  {
   "cell_type": "code",
   "execution_count": 9,
   "id": "58082420-a75f-4400-89ba-0ff0910c74c8",
   "metadata": {},
   "outputs": [
    {
     "data": {
      "text/html": [
       "<div>\n",
       "<style scoped>\n",
       "    .dataframe tbody tr th:only-of-type {\n",
       "        vertical-align: middle;\n",
       "    }\n",
       "\n",
       "    .dataframe tbody tr th {\n",
       "        vertical-align: top;\n",
       "    }\n",
       "\n",
       "    .dataframe thead th {\n",
       "        text-align: right;\n",
       "    }\n",
       "</style>\n",
       "<table border=\"1\" class=\"dataframe\">\n",
       "  <thead>\n",
       "    <tr style=\"text-align: right;\">\n",
       "      <th></th>\n",
       "      <th>AccountID</th>\n",
       "      <th>AccountName</th>\n",
       "      <th>AccountType</th>\n",
       "    </tr>\n",
       "  </thead>\n",
       "  <tbody>\n",
       "    <tr>\n",
       "      <th>0</th>\n",
       "      <td>1001</td>\n",
       "      <td>Cash</td>\n",
       "      <td>Asset</td>\n",
       "    </tr>\n",
       "    <tr>\n",
       "      <th>1</th>\n",
       "      <td>1002</td>\n",
       "      <td>Accounts Receivable</td>\n",
       "      <td>Asset</td>\n",
       "    </tr>\n",
       "    <tr>\n",
       "      <th>2</th>\n",
       "      <td>1003</td>\n",
       "      <td>Inventory</td>\n",
       "      <td>Asset</td>\n",
       "    </tr>\n",
       "    <tr>\n",
       "      <th>3</th>\n",
       "      <td>1004</td>\n",
       "      <td>Office Equipment</td>\n",
       "      <td>Asset</td>\n",
       "    </tr>\n",
       "    <tr>\n",
       "      <th>4</th>\n",
       "      <td>1005</td>\n",
       "      <td>Accounts Payable</td>\n",
       "      <td>Liability</td>\n",
       "    </tr>\n",
       "    <tr>\n",
       "      <th>5</th>\n",
       "      <td>1006</td>\n",
       "      <td>Long-Term Debt</td>\n",
       "      <td>Liability</td>\n",
       "    </tr>\n",
       "    <tr>\n",
       "      <th>6</th>\n",
       "      <td>1007</td>\n",
       "      <td>Common Stock</td>\n",
       "      <td>Equity</td>\n",
       "    </tr>\n",
       "    <tr>\n",
       "      <th>7</th>\n",
       "      <td>1008</td>\n",
       "      <td>Revenue</td>\n",
       "      <td>Revenue</td>\n",
       "    </tr>\n",
       "    <tr>\n",
       "      <th>8</th>\n",
       "      <td>1009</td>\n",
       "      <td>Cost of Goods Sold</td>\n",
       "      <td>Expense</td>\n",
       "    </tr>\n",
       "    <tr>\n",
       "      <th>9</th>\n",
       "      <td>1010</td>\n",
       "      <td>Operating Expenses</td>\n",
       "      <td>Expense</td>\n",
       "    </tr>\n",
       "  </tbody>\n",
       "</table>\n",
       "</div>"
      ],
      "text/plain": [
       "   AccountID          AccountName AccountType\n",
       "0       1001                 Cash       Asset\n",
       "1       1002  Accounts Receivable       Asset\n",
       "2       1003            Inventory       Asset\n",
       "3       1004     Office Equipment       Asset\n",
       "4       1005     Accounts Payable   Liability\n",
       "5       1006       Long-Term Debt   Liability\n",
       "6       1007         Common Stock      Equity\n",
       "7       1008              Revenue     Revenue\n",
       "8       1009   Cost of Goods Sold     Expense\n",
       "9       1010   Operating Expenses     Expense"
      ]
     },
     "execution_count": 9,
     "metadata": {},
     "output_type": "execute_result"
    }
   ],
   "source": [
    "accounts.head(15)"
   ]
  },
  {
   "cell_type": "code",
   "execution_count": null,
   "id": "b1effb7b-f1b9-4f00-b76f-8b73988c3dd4",
   "metadata": {},
   "outputs": [],
   "source": []
  },
  {
   "cell_type": "code",
   "execution_count": 10,
   "id": "a82d6bbf-5280-40b7-b14a-ac1a5ca1b144",
   "metadata": {},
   "outputs": [
    {
     "name": "stdout",
     "output_type": "stream",
     "text": [
      "<class 'pandas.core.frame.DataFrame'>\n",
      "RangeIndex: 3 entries, 0 to 2\n",
      "Data columns (total 2 columns):\n",
      " #   Column          Non-Null Count  Dtype \n",
      "---  ------          --------------  ----- \n",
      " 0   DepartmentID    3 non-null      int64 \n",
      " 1   DepartmentName  3 non-null      object\n",
      "dtypes: int64(1), object(1)\n",
      "memory usage: 180.0+ bytes\n"
     ]
    }
   ],
   "source": [
    "departments.info()"
   ]
  },
  {
   "cell_type": "code",
   "execution_count": 11,
   "id": "1ffcc5c5-f210-4cd9-aa7a-54f348d094bb",
   "metadata": {},
   "outputs": [
    {
     "data": {
      "text/html": [
       "<div>\n",
       "<style scoped>\n",
       "    .dataframe tbody tr th:only-of-type {\n",
       "        vertical-align: middle;\n",
       "    }\n",
       "\n",
       "    .dataframe tbody tr th {\n",
       "        vertical-align: top;\n",
       "    }\n",
       "\n",
       "    .dataframe thead th {\n",
       "        text-align: right;\n",
       "    }\n",
       "</style>\n",
       "<table border=\"1\" class=\"dataframe\">\n",
       "  <thead>\n",
       "    <tr style=\"text-align: right;\">\n",
       "      <th></th>\n",
       "      <th>count</th>\n",
       "      <th>mean</th>\n",
       "      <th>std</th>\n",
       "      <th>min</th>\n",
       "      <th>25%</th>\n",
       "      <th>50%</th>\n",
       "      <th>75%</th>\n",
       "      <th>max</th>\n",
       "    </tr>\n",
       "  </thead>\n",
       "  <tbody>\n",
       "    <tr>\n",
       "      <th>DepartmentID</th>\n",
       "      <td>3.0</td>\n",
       "      <td>2.0</td>\n",
       "      <td>1.0</td>\n",
       "      <td>1.0</td>\n",
       "      <td>1.5</td>\n",
       "      <td>2.0</td>\n",
       "      <td>2.5</td>\n",
       "      <td>3.0</td>\n",
       "    </tr>\n",
       "  </tbody>\n",
       "</table>\n",
       "</div>"
      ],
      "text/plain": [
       "              count  mean  std  min  25%  50%  75%  max\n",
       "DepartmentID    3.0   2.0  1.0  1.0  1.5  2.0  2.5  3.0"
      ]
     },
     "execution_count": 11,
     "metadata": {},
     "output_type": "execute_result"
    }
   ],
   "source": [
    "departments.describe().T"
   ]
  },
  {
   "cell_type": "code",
   "execution_count": 12,
   "id": "cc21bb17-bd61-4ebc-992f-96ee1ba94d62",
   "metadata": {},
   "outputs": [
    {
     "data": {
      "text/html": [
       "<div>\n",
       "<style scoped>\n",
       "    .dataframe tbody tr th:only-of-type {\n",
       "        vertical-align: middle;\n",
       "    }\n",
       "\n",
       "    .dataframe tbody tr th {\n",
       "        vertical-align: top;\n",
       "    }\n",
       "\n",
       "    .dataframe thead th {\n",
       "        text-align: right;\n",
       "    }\n",
       "</style>\n",
       "<table border=\"1\" class=\"dataframe\">\n",
       "  <thead>\n",
       "    <tr style=\"text-align: right;\">\n",
       "      <th></th>\n",
       "      <th>DepartmentID</th>\n",
       "      <th>DepartmentName</th>\n",
       "    </tr>\n",
       "  </thead>\n",
       "  <tbody>\n",
       "    <tr>\n",
       "      <th>0</th>\n",
       "      <td>1</td>\n",
       "      <td>Sales</td>\n",
       "    </tr>\n",
       "    <tr>\n",
       "      <th>1</th>\n",
       "      <td>2</td>\n",
       "      <td>Operations</td>\n",
       "    </tr>\n",
       "    <tr>\n",
       "      <th>2</th>\n",
       "      <td>3</td>\n",
       "      <td>Administration</td>\n",
       "    </tr>\n",
       "  </tbody>\n",
       "</table>\n",
       "</div>"
      ],
      "text/plain": [
       "   DepartmentID  DepartmentName\n",
       "0             1           Sales\n",
       "1             2      Operations\n",
       "2             3  Administration"
      ]
     },
     "execution_count": 12,
     "metadata": {},
     "output_type": "execute_result"
    }
   ],
   "source": [
    "departments"
   ]
  },
  {
   "cell_type": "code",
   "execution_count": null,
   "id": "365ecf3c-a3a6-492a-a0e3-ff9879f3b9af",
   "metadata": {},
   "outputs": [],
   "source": []
  },
  {
   "cell_type": "code",
   "execution_count": 13,
   "id": "3850c9e4-8c6d-4239-8ebb-5aa30722b4b3",
   "metadata": {},
   "outputs": [
    {
     "name": "stdout",
     "output_type": "stream",
     "text": [
      "<class 'pandas.core.frame.DataFrame'>\n",
      "RangeIndex: 4 entries, 0 to 3\n",
      "Data columns (total 3 columns):\n",
      " #   Column     Non-Null Count  Dtype \n",
      "---  ------     --------------  ----- \n",
      " 0   PartyID    4 non-null      int64 \n",
      " 1   PartyName  4 non-null      object\n",
      " 2   PartyType  4 non-null      object\n",
      "dtypes: int64(1), object(2)\n",
      "memory usage: 228.0+ bytes\n"
     ]
    }
   ],
   "source": [
    "vendors_customers.info()"
   ]
  },
  {
   "cell_type": "code",
   "execution_count": 14,
   "id": "624169f6-a03e-48e1-bc41-426382bcb53c",
   "metadata": {},
   "outputs": [
    {
     "data": {
      "text/html": [
       "<div>\n",
       "<style scoped>\n",
       "    .dataframe tbody tr th:only-of-type {\n",
       "        vertical-align: middle;\n",
       "    }\n",
       "\n",
       "    .dataframe tbody tr th {\n",
       "        vertical-align: top;\n",
       "    }\n",
       "\n",
       "    .dataframe thead th {\n",
       "        text-align: right;\n",
       "    }\n",
       "</style>\n",
       "<table border=\"1\" class=\"dataframe\">\n",
       "  <thead>\n",
       "    <tr style=\"text-align: right;\">\n",
       "      <th></th>\n",
       "      <th>count</th>\n",
       "      <th>mean</th>\n",
       "      <th>std</th>\n",
       "      <th>min</th>\n",
       "      <th>25%</th>\n",
       "      <th>50%</th>\n",
       "      <th>75%</th>\n",
       "      <th>max</th>\n",
       "    </tr>\n",
       "  </thead>\n",
       "  <tbody>\n",
       "    <tr>\n",
       "      <th>PartyID</th>\n",
       "      <td>4.0</td>\n",
       "      <td>202.0</td>\n",
       "      <td>1.0</td>\n",
       "      <td>201.0</td>\n",
       "      <td>202.0</td>\n",
       "      <td>202.0</td>\n",
       "      <td>203.0</td>\n",
       "      <td>204.0</td>\n",
       "    </tr>\n",
       "  </tbody>\n",
       "</table>\n",
       "</div>"
      ],
      "text/plain": [
       "         count   mean  std    min    25%    50%    75%    max\n",
       "PartyID    4.0  202.0  1.0  201.0  202.0  202.0  203.0  204.0"
      ]
     },
     "execution_count": 14,
     "metadata": {},
     "output_type": "execute_result"
    }
   ],
   "source": [
    "vendors_customers.describe().round().T"
   ]
  },
  {
   "cell_type": "code",
   "execution_count": 15,
   "id": "3eea6902-b604-42fc-81f0-a6ab65632502",
   "metadata": {},
   "outputs": [
    {
     "data": {
      "text/html": [
       "<div>\n",
       "<style scoped>\n",
       "    .dataframe tbody tr th:only-of-type {\n",
       "        vertical-align: middle;\n",
       "    }\n",
       "\n",
       "    .dataframe tbody tr th {\n",
       "        vertical-align: top;\n",
       "    }\n",
       "\n",
       "    .dataframe thead th {\n",
       "        text-align: right;\n",
       "    }\n",
       "</style>\n",
       "<table border=\"1\" class=\"dataframe\">\n",
       "  <thead>\n",
       "    <tr style=\"text-align: right;\">\n",
       "      <th></th>\n",
       "      <th>PartyID</th>\n",
       "      <th>PartyName</th>\n",
       "      <th>PartyType</th>\n",
       "    </tr>\n",
       "  </thead>\n",
       "  <tbody>\n",
       "    <tr>\n",
       "      <th>0</th>\n",
       "      <td>201</td>\n",
       "      <td>ABC Supplies</td>\n",
       "      <td>Vendor</td>\n",
       "    </tr>\n",
       "    <tr>\n",
       "      <th>1</th>\n",
       "      <td>202</td>\n",
       "      <td>XYZ Retail</td>\n",
       "      <td>Customer</td>\n",
       "    </tr>\n",
       "    <tr>\n",
       "      <th>2</th>\n",
       "      <td>203</td>\n",
       "      <td>Global Tech</td>\n",
       "      <td>Customer</td>\n",
       "    </tr>\n",
       "    <tr>\n",
       "      <th>3</th>\n",
       "      <td>204</td>\n",
       "      <td>FastMart</td>\n",
       "      <td>Vendor</td>\n",
       "    </tr>\n",
       "  </tbody>\n",
       "</table>\n",
       "</div>"
      ],
      "text/plain": [
       "   PartyID     PartyName PartyType\n",
       "0      201  ABC Supplies    Vendor\n",
       "1      202    XYZ Retail  Customer\n",
       "2      203   Global Tech  Customer\n",
       "3      204      FastMart    Vendor"
      ]
     },
     "execution_count": 15,
     "metadata": {},
     "output_type": "execute_result"
    }
   ],
   "source": [
    "vendors_customers"
   ]
  },
  {
   "cell_type": "code",
   "execution_count": null,
   "id": "81b22e47-7a3e-4aae-939f-1cef55afc53e",
   "metadata": {},
   "outputs": [],
   "source": []
  },
  {
   "cell_type": "code",
   "execution_count": 16,
   "id": "f6ffa45e-afbb-4bbc-baa0-3e58ad3a09eb",
   "metadata": {},
   "outputs": [
    {
     "name": "stdout",
     "output_type": "stream",
     "text": [
      "<class 'pandas.core.frame.DataFrame'>\n",
      "RangeIndex: 365 entries, 0 to 364\n",
      "Data columns (total 5 columns):\n",
      " #   Column   Non-Null Count  Dtype \n",
      "---  ------   --------------  ----- \n",
      " 0   DateID   365 non-null    object\n",
      " 1   Year     365 non-null    int64 \n",
      " 2   Month    365 non-null    int64 \n",
      " 3   Day      365 non-null    int64 \n",
      " 4   Quarter  365 non-null    int64 \n",
      "dtypes: int64(4), object(1)\n",
      "memory usage: 14.4+ KB\n"
     ]
    }
   ],
   "source": [
    "dates.info()"
   ]
  },
  {
   "cell_type": "code",
   "execution_count": 17,
   "id": "a5c67bfa-84ff-460e-b776-5a8c81fc6853",
   "metadata": {},
   "outputs": [
    {
     "data": {
      "text/html": [
       "<div>\n",
       "<style scoped>\n",
       "    .dataframe tbody tr th:only-of-type {\n",
       "        vertical-align: middle;\n",
       "    }\n",
       "\n",
       "    .dataframe tbody tr th {\n",
       "        vertical-align: top;\n",
       "    }\n",
       "\n",
       "    .dataframe thead th {\n",
       "        text-align: right;\n",
       "    }\n",
       "</style>\n",
       "<table border=\"1\" class=\"dataframe\">\n",
       "  <thead>\n",
       "    <tr style=\"text-align: right;\">\n",
       "      <th></th>\n",
       "      <th>count</th>\n",
       "      <th>mean</th>\n",
       "      <th>std</th>\n",
       "      <th>min</th>\n",
       "      <th>25%</th>\n",
       "      <th>50%</th>\n",
       "      <th>75%</th>\n",
       "      <th>max</th>\n",
       "    </tr>\n",
       "  </thead>\n",
       "  <tbody>\n",
       "    <tr>\n",
       "      <th>Year</th>\n",
       "      <td>365.0</td>\n",
       "      <td>2023.0</td>\n",
       "      <td>0.0</td>\n",
       "      <td>2023.0</td>\n",
       "      <td>2023.0</td>\n",
       "      <td>2023.0</td>\n",
       "      <td>2023.0</td>\n",
       "      <td>2023.0</td>\n",
       "    </tr>\n",
       "    <tr>\n",
       "      <th>Month</th>\n",
       "      <td>365.0</td>\n",
       "      <td>7.0</td>\n",
       "      <td>3.0</td>\n",
       "      <td>1.0</td>\n",
       "      <td>4.0</td>\n",
       "      <td>7.0</td>\n",
       "      <td>10.0</td>\n",
       "      <td>12.0</td>\n",
       "    </tr>\n",
       "    <tr>\n",
       "      <th>Day</th>\n",
       "      <td>365.0</td>\n",
       "      <td>16.0</td>\n",
       "      <td>9.0</td>\n",
       "      <td>1.0</td>\n",
       "      <td>8.0</td>\n",
       "      <td>16.0</td>\n",
       "      <td>23.0</td>\n",
       "      <td>31.0</td>\n",
       "    </tr>\n",
       "    <tr>\n",
       "      <th>Quarter</th>\n",
       "      <td>365.0</td>\n",
       "      <td>3.0</td>\n",
       "      <td>1.0</td>\n",
       "      <td>1.0</td>\n",
       "      <td>2.0</td>\n",
       "      <td>3.0</td>\n",
       "      <td>4.0</td>\n",
       "      <td>4.0</td>\n",
       "    </tr>\n",
       "  </tbody>\n",
       "</table>\n",
       "</div>"
      ],
      "text/plain": [
       "         count    mean  std     min     25%     50%     75%     max\n",
       "Year     365.0  2023.0  0.0  2023.0  2023.0  2023.0  2023.0  2023.0\n",
       "Month    365.0     7.0  3.0     1.0     4.0     7.0    10.0    12.0\n",
       "Day      365.0    16.0  9.0     1.0     8.0    16.0    23.0    31.0\n",
       "Quarter  365.0     3.0  1.0     1.0     2.0     3.0     4.0     4.0"
      ]
     },
     "execution_count": 17,
     "metadata": {},
     "output_type": "execute_result"
    }
   ],
   "source": [
    "dates.describe().round().T"
   ]
  },
  {
   "cell_type": "code",
   "execution_count": 18,
   "id": "d32bb2c6-2bce-4c5e-bce7-a87894a43480",
   "metadata": {},
   "outputs": [
    {
     "data": {
      "text/html": [
       "<div>\n",
       "<style scoped>\n",
       "    .dataframe tbody tr th:only-of-type {\n",
       "        vertical-align: middle;\n",
       "    }\n",
       "\n",
       "    .dataframe tbody tr th {\n",
       "        vertical-align: top;\n",
       "    }\n",
       "\n",
       "    .dataframe thead th {\n",
       "        text-align: right;\n",
       "    }\n",
       "</style>\n",
       "<table border=\"1\" class=\"dataframe\">\n",
       "  <thead>\n",
       "    <tr style=\"text-align: right;\">\n",
       "      <th></th>\n",
       "      <th>DateID</th>\n",
       "      <th>Year</th>\n",
       "      <th>Month</th>\n",
       "      <th>Day</th>\n",
       "      <th>Quarter</th>\n",
       "    </tr>\n",
       "  </thead>\n",
       "  <tbody>\n",
       "    <tr>\n",
       "      <th>0</th>\n",
       "      <td>2023-01-01</td>\n",
       "      <td>2023</td>\n",
       "      <td>1</td>\n",
       "      <td>1</td>\n",
       "      <td>1</td>\n",
       "    </tr>\n",
       "    <tr>\n",
       "      <th>1</th>\n",
       "      <td>2023-01-02</td>\n",
       "      <td>2023</td>\n",
       "      <td>1</td>\n",
       "      <td>2</td>\n",
       "      <td>1</td>\n",
       "    </tr>\n",
       "    <tr>\n",
       "      <th>2</th>\n",
       "      <td>2023-01-03</td>\n",
       "      <td>2023</td>\n",
       "      <td>1</td>\n",
       "      <td>3</td>\n",
       "      <td>1</td>\n",
       "    </tr>\n",
       "    <tr>\n",
       "      <th>3</th>\n",
       "      <td>2023-01-04</td>\n",
       "      <td>2023</td>\n",
       "      <td>1</td>\n",
       "      <td>4</td>\n",
       "      <td>1</td>\n",
       "    </tr>\n",
       "    <tr>\n",
       "      <th>4</th>\n",
       "      <td>2023-01-05</td>\n",
       "      <td>2023</td>\n",
       "      <td>1</td>\n",
       "      <td>5</td>\n",
       "      <td>1</td>\n",
       "    </tr>\n",
       "    <tr>\n",
       "      <th>...</th>\n",
       "      <td>...</td>\n",
       "      <td>...</td>\n",
       "      <td>...</td>\n",
       "      <td>...</td>\n",
       "      <td>...</td>\n",
       "    </tr>\n",
       "    <tr>\n",
       "      <th>360</th>\n",
       "      <td>2023-12-27</td>\n",
       "      <td>2023</td>\n",
       "      <td>12</td>\n",
       "      <td>27</td>\n",
       "      <td>4</td>\n",
       "    </tr>\n",
       "    <tr>\n",
       "      <th>361</th>\n",
       "      <td>2023-12-28</td>\n",
       "      <td>2023</td>\n",
       "      <td>12</td>\n",
       "      <td>28</td>\n",
       "      <td>4</td>\n",
       "    </tr>\n",
       "    <tr>\n",
       "      <th>362</th>\n",
       "      <td>2023-12-29</td>\n",
       "      <td>2023</td>\n",
       "      <td>12</td>\n",
       "      <td>29</td>\n",
       "      <td>4</td>\n",
       "    </tr>\n",
       "    <tr>\n",
       "      <th>363</th>\n",
       "      <td>2023-12-30</td>\n",
       "      <td>2023</td>\n",
       "      <td>12</td>\n",
       "      <td>30</td>\n",
       "      <td>4</td>\n",
       "    </tr>\n",
       "    <tr>\n",
       "      <th>364</th>\n",
       "      <td>2023-12-31</td>\n",
       "      <td>2023</td>\n",
       "      <td>12</td>\n",
       "      <td>31</td>\n",
       "      <td>4</td>\n",
       "    </tr>\n",
       "  </tbody>\n",
       "</table>\n",
       "<p>365 rows × 5 columns</p>\n",
       "</div>"
      ],
      "text/plain": [
       "         DateID  Year  Month  Day  Quarter\n",
       "0    2023-01-01  2023      1    1        1\n",
       "1    2023-01-02  2023      1    2        1\n",
       "2    2023-01-03  2023      1    3        1\n",
       "3    2023-01-04  2023      1    4        1\n",
       "4    2023-01-05  2023      1    5        1\n",
       "..          ...   ...    ...  ...      ...\n",
       "360  2023-12-27  2023     12   27        4\n",
       "361  2023-12-28  2023     12   28        4\n",
       "362  2023-12-29  2023     12   29        4\n",
       "363  2023-12-30  2023     12   30        4\n",
       "364  2023-12-31  2023     12   31        4\n",
       "\n",
       "[365 rows x 5 columns]"
      ]
     },
     "execution_count": 18,
     "metadata": {},
     "output_type": "execute_result"
    }
   ],
   "source": [
    "dates"
   ]
  },
  {
   "cell_type": "code",
   "execution_count": null,
   "id": "8466f757-3635-4cb8-b388-a8a7be585f53",
   "metadata": {},
   "outputs": [],
   "source": []
  },
  {
   "cell_type": "markdown",
   "id": "c4c9839d-b404-45b1-9870-128b206dc22e",
   "metadata": {},
   "source": [
    "### Convert 'DateID' column to datetime format"
   ]
  },
  {
   "cell_type": "code",
   "execution_count": 19,
   "id": "5257a344-ae65-41c7-9d2b-4de728799280",
   "metadata": {},
   "outputs": [],
   "source": [
    "dates['DateID'] = pd.to_datetime(dates['DateID'])"
   ]
  },
  {
   "cell_type": "code",
   "execution_count": 20,
   "id": "392160b2-59e6-4867-8f77-d1e003de369e",
   "metadata": {},
   "outputs": [
    {
     "name": "stdout",
     "output_type": "stream",
     "text": [
      "<class 'pandas.core.frame.DataFrame'>\n",
      "RangeIndex: 365 entries, 0 to 364\n",
      "Data columns (total 5 columns):\n",
      " #   Column   Non-Null Count  Dtype         \n",
      "---  ------   --------------  -----         \n",
      " 0   DateID   365 non-null    datetime64[ns]\n",
      " 1   Year     365 non-null    int64         \n",
      " 2   Month    365 non-null    int64         \n",
      " 3   Day      365 non-null    int64         \n",
      " 4   Quarter  365 non-null    int64         \n",
      "dtypes: datetime64[ns](1), int64(4)\n",
      "memory usage: 14.4 KB\n"
     ]
    }
   ],
   "source": [
    "dates.info()"
   ]
  },
  {
   "cell_type": "code",
   "execution_count": null,
   "id": "c59e5a4f-be07-49e8-9e6f-a5188a71780b",
   "metadata": {},
   "outputs": [],
   "source": []
  },
  {
   "cell_type": "markdown",
   "id": "387d0c51-2abf-4f4f-8618-1aa9556ce3b6",
   "metadata": {},
   "source": [
    "### Review general_ledger table's structure and summary"
   ]
  },
  {
   "cell_type": "code",
   "execution_count": 21,
   "id": "94c5e9f3-137f-495d-824f-599d6c3847e9",
   "metadata": {},
   "outputs": [
    {
     "name": "stdout",
     "output_type": "stream",
     "text": [
      "<class 'pandas.core.frame.DataFrame'>\n",
      "RangeIndex: 400 entries, 0 to 399\n",
      "Data columns (total 8 columns):\n",
      " #   Column        Non-Null Count  Dtype  \n",
      "---  ------        --------------  -----  \n",
      " 0   EntryID       400 non-null    object \n",
      " 1   Date          400 non-null    object \n",
      " 2   AccountID     400 non-null    int64  \n",
      " 3   DepartmentID  400 non-null    int64  \n",
      " 4   PartyID       390 non-null    float64\n",
      " 5   Amount        400 non-null    float64\n",
      " 6   Type          400 non-null    object \n",
      " 7   Description   390 non-null    object \n",
      "dtypes: float64(2), int64(2), object(4)\n",
      "memory usage: 25.1+ KB\n"
     ]
    }
   ],
   "source": [
    "general_ledger.info()"
   ]
  },
  {
   "cell_type": "code",
   "execution_count": 22,
   "id": "f2a17af5-4906-42eb-a4eb-285bb0bb6b72",
   "metadata": {},
   "outputs": [
    {
     "data": {
      "text/html": [
       "<div>\n",
       "<style scoped>\n",
       "    .dataframe tbody tr th:only-of-type {\n",
       "        vertical-align: middle;\n",
       "    }\n",
       "\n",
       "    .dataframe tbody tr th {\n",
       "        vertical-align: top;\n",
       "    }\n",
       "\n",
       "    .dataframe thead th {\n",
       "        text-align: right;\n",
       "    }\n",
       "</style>\n",
       "<table border=\"1\" class=\"dataframe\">\n",
       "  <thead>\n",
       "    <tr style=\"text-align: right;\">\n",
       "      <th></th>\n",
       "      <th>count</th>\n",
       "      <th>mean</th>\n",
       "      <th>std</th>\n",
       "      <th>min</th>\n",
       "      <th>25%</th>\n",
       "      <th>50%</th>\n",
       "      <th>75%</th>\n",
       "      <th>max</th>\n",
       "    </tr>\n",
       "  </thead>\n",
       "  <tbody>\n",
       "    <tr>\n",
       "      <th>AccountID</th>\n",
       "      <td>400.0</td>\n",
       "      <td>1006.0</td>\n",
       "      <td>3.0</td>\n",
       "      <td>1001.0</td>\n",
       "      <td>1003.0</td>\n",
       "      <td>1006.0</td>\n",
       "      <td>1008.0</td>\n",
       "      <td>1010.0</td>\n",
       "    </tr>\n",
       "    <tr>\n",
       "      <th>DepartmentID</th>\n",
       "      <td>400.0</td>\n",
       "      <td>2.0</td>\n",
       "      <td>1.0</td>\n",
       "      <td>1.0</td>\n",
       "      <td>1.0</td>\n",
       "      <td>2.0</td>\n",
       "      <td>3.0</td>\n",
       "      <td>3.0</td>\n",
       "    </tr>\n",
       "    <tr>\n",
       "      <th>PartyID</th>\n",
       "      <td>390.0</td>\n",
       "      <td>203.0</td>\n",
       "      <td>1.0</td>\n",
       "      <td>201.0</td>\n",
       "      <td>202.0</td>\n",
       "      <td>203.0</td>\n",
       "      <td>204.0</td>\n",
       "      <td>204.0</td>\n",
       "    </tr>\n",
       "    <tr>\n",
       "      <th>Amount</th>\n",
       "      <td>400.0</td>\n",
       "      <td>4992.0</td>\n",
       "      <td>2908.0</td>\n",
       "      <td>150.0</td>\n",
       "      <td>2489.0</td>\n",
       "      <td>5166.0</td>\n",
       "      <td>7500.0</td>\n",
       "      <td>9906.0</td>\n",
       "    </tr>\n",
       "  </tbody>\n",
       "</table>\n",
       "</div>"
      ],
      "text/plain": [
       "              count    mean     std     min     25%     50%     75%     max\n",
       "AccountID     400.0  1006.0     3.0  1001.0  1003.0  1006.0  1008.0  1010.0\n",
       "DepartmentID  400.0     2.0     1.0     1.0     1.0     2.0     3.0     3.0\n",
       "PartyID       390.0   203.0     1.0   201.0   202.0   203.0   204.0   204.0\n",
       "Amount        400.0  4992.0  2908.0   150.0  2489.0  5166.0  7500.0  9906.0"
      ]
     },
     "execution_count": 22,
     "metadata": {},
     "output_type": "execute_result"
    }
   ],
   "source": [
    "general_ledger.describe().round().T"
   ]
  },
  {
   "cell_type": "code",
   "execution_count": 23,
   "id": "76ec4b0f-11ca-4acd-96be-251c70a99fc8",
   "metadata": {},
   "outputs": [
    {
     "data": {
      "text/html": [
       "<div>\n",
       "<style scoped>\n",
       "    .dataframe tbody tr th:only-of-type {\n",
       "        vertical-align: middle;\n",
       "    }\n",
       "\n",
       "    .dataframe tbody tr th {\n",
       "        vertical-align: top;\n",
       "    }\n",
       "\n",
       "    .dataframe thead th {\n",
       "        text-align: right;\n",
       "    }\n",
       "</style>\n",
       "<table border=\"1\" class=\"dataframe\">\n",
       "  <thead>\n",
       "    <tr style=\"text-align: right;\">\n",
       "      <th></th>\n",
       "      <th>EntryID</th>\n",
       "      <th>Date</th>\n",
       "      <th>AccountID</th>\n",
       "      <th>DepartmentID</th>\n",
       "      <th>PartyID</th>\n",
       "      <th>Amount</th>\n",
       "      <th>Type</th>\n",
       "      <th>Description</th>\n",
       "    </tr>\n",
       "  </thead>\n",
       "  <tbody>\n",
       "    <tr>\n",
       "      <th>0</th>\n",
       "      <td>GL0001</td>\n",
       "      <td>2023-11-24</td>\n",
       "      <td>1002</td>\n",
       "      <td>1</td>\n",
       "      <td>203.0</td>\n",
       "      <td>3807.95</td>\n",
       "      <td>Debit</td>\n",
       "      <td>Customer payment</td>\n",
       "    </tr>\n",
       "    <tr>\n",
       "      <th>1</th>\n",
       "      <td>GL0002</td>\n",
       "      <td>2023-03-13</td>\n",
       "      <td>1002</td>\n",
       "      <td>3</td>\n",
       "      <td>201.0</td>\n",
       "      <td>9512.07</td>\n",
       "      <td>Credit</td>\n",
       "      <td>Office supplies purchase</td>\n",
       "    </tr>\n",
       "    <tr>\n",
       "      <th>2</th>\n",
       "      <td>GL0003</td>\n",
       "      <td>2023-01-16</td>\n",
       "      <td>1002</td>\n",
       "      <td>1</td>\n",
       "      <td>202.0</td>\n",
       "      <td>7346.74</td>\n",
       "      <td>Debit</td>\n",
       "      <td>Software license</td>\n",
       "    </tr>\n",
       "    <tr>\n",
       "      <th>3</th>\n",
       "      <td>GL0004</td>\n",
       "      <td>2023-04-12</td>\n",
       "      <td>1009</td>\n",
       "      <td>2</td>\n",
       "      <td>202.0</td>\n",
       "      <td>6026.72</td>\n",
       "      <td>Credit</td>\n",
       "      <td>Software license</td>\n",
       "    </tr>\n",
       "    <tr>\n",
       "      <th>4</th>\n",
       "      <td>GL0005</td>\n",
       "      <td>2023-05-23</td>\n",
       "      <td>1001</td>\n",
       "      <td>1</td>\n",
       "      <td>204.0</td>\n",
       "      <td>1644.58</td>\n",
       "      <td>Credit</td>\n",
       "      <td>Equipment maintenance</td>\n",
       "    </tr>\n",
       "    <tr>\n",
       "      <th>...</th>\n",
       "      <td>...</td>\n",
       "      <td>...</td>\n",
       "      <td>...</td>\n",
       "      <td>...</td>\n",
       "      <td>...</td>\n",
       "      <td>...</td>\n",
       "      <td>...</td>\n",
       "      <td>...</td>\n",
       "    </tr>\n",
       "    <tr>\n",
       "      <th>395</th>\n",
       "      <td>GL0396</td>\n",
       "      <td>2023-06-17</td>\n",
       "      <td>1009</td>\n",
       "      <td>2</td>\n",
       "      <td>201.0</td>\n",
       "      <td>9314.50</td>\n",
       "      <td>Debit</td>\n",
       "      <td>Service revenue</td>\n",
       "    </tr>\n",
       "    <tr>\n",
       "      <th>396</th>\n",
       "      <td>GL0397</td>\n",
       "      <td>2023-10-26</td>\n",
       "      <td>1008</td>\n",
       "      <td>1</td>\n",
       "      <td>204.0</td>\n",
       "      <td>8598.29</td>\n",
       "      <td>Debit</td>\n",
       "      <td>Inventory restock</td>\n",
       "    </tr>\n",
       "    <tr>\n",
       "      <th>397</th>\n",
       "      <td>GL0398</td>\n",
       "      <td>2023-03-09</td>\n",
       "      <td>1009</td>\n",
       "      <td>2</td>\n",
       "      <td>204.0</td>\n",
       "      <td>4347.04</td>\n",
       "      <td>Debit</td>\n",
       "      <td>Software license</td>\n",
       "    </tr>\n",
       "    <tr>\n",
       "      <th>398</th>\n",
       "      <td>GL0399</td>\n",
       "      <td>2023-08-25</td>\n",
       "      <td>1005</td>\n",
       "      <td>3</td>\n",
       "      <td>201.0</td>\n",
       "      <td>7533.62</td>\n",
       "      <td>Credit</td>\n",
       "      <td>Equipment maintenance</td>\n",
       "    </tr>\n",
       "    <tr>\n",
       "      <th>399</th>\n",
       "      <td>GL0400</td>\n",
       "      <td>2023-01-02</td>\n",
       "      <td>1004</td>\n",
       "      <td>3</td>\n",
       "      <td>201.0</td>\n",
       "      <td>7569.97</td>\n",
       "      <td>Debit</td>\n",
       "      <td>Inventory restock</td>\n",
       "    </tr>\n",
       "  </tbody>\n",
       "</table>\n",
       "<p>400 rows × 8 columns</p>\n",
       "</div>"
      ],
      "text/plain": [
       "    EntryID        Date  AccountID  DepartmentID  PartyID   Amount    Type  \\\n",
       "0    GL0001  2023-11-24       1002             1    203.0  3807.95   Debit   \n",
       "1    GL0002  2023-03-13       1002             3    201.0  9512.07  Credit   \n",
       "2    GL0003  2023-01-16       1002             1    202.0  7346.74   Debit   \n",
       "3    GL0004  2023-04-12       1009             2    202.0  6026.72  Credit   \n",
       "4    GL0005  2023-05-23       1001             1    204.0  1644.58  Credit   \n",
       "..      ...         ...        ...           ...      ...      ...     ...   \n",
       "395  GL0396  2023-06-17       1009             2    201.0  9314.50   Debit   \n",
       "396  GL0397  2023-10-26       1008             1    204.0  8598.29   Debit   \n",
       "397  GL0398  2023-03-09       1009             2    204.0  4347.04   Debit   \n",
       "398  GL0399  2023-08-25       1005             3    201.0  7533.62  Credit   \n",
       "399  GL0400  2023-01-02       1004             3    201.0  7569.97   Debit   \n",
       "\n",
       "                  Description  \n",
       "0            Customer payment  \n",
       "1    Office supplies purchase  \n",
       "2            Software license  \n",
       "3            Software license  \n",
       "4       Equipment maintenance  \n",
       "..                        ...  \n",
       "395           Service revenue  \n",
       "396         Inventory restock  \n",
       "397          Software license  \n",
       "398     Equipment maintenance  \n",
       "399         Inventory restock  \n",
       "\n",
       "[400 rows x 8 columns]"
      ]
     },
     "execution_count": 23,
     "metadata": {},
     "output_type": "execute_result"
    }
   ],
   "source": [
    "general_ledger"
   ]
  },
  {
   "cell_type": "code",
   "execution_count": null,
   "id": "b41e7d6e-0bb8-4ba0-81dc-9c9669baa277",
   "metadata": {},
   "outputs": [],
   "source": []
  },
  {
   "cell_type": "markdown",
   "id": "ab01d1e4-b5af-4a7e-b35f-69ffc8d9ec51",
   "metadata": {},
   "source": [
    "### Convert 'Date' column in general_ledger to datetime format"
   ]
  },
  {
   "cell_type": "code",
   "execution_count": 24,
   "id": "847ab4e2-1822-4270-bcd5-cc5a0b9ddb2e",
   "metadata": {},
   "outputs": [],
   "source": [
    "general_ledger['Date'] = pd.to_datetime(general_ledger['Date'])"
   ]
  },
  {
   "cell_type": "code",
   "execution_count": 25,
   "id": "05711acc-5b3d-4680-97a1-b4703287d1ef",
   "metadata": {},
   "outputs": [
    {
     "name": "stdout",
     "output_type": "stream",
     "text": [
      "<class 'pandas.core.frame.DataFrame'>\n",
      "RangeIndex: 400 entries, 0 to 399\n",
      "Data columns (total 8 columns):\n",
      " #   Column        Non-Null Count  Dtype         \n",
      "---  ------        --------------  -----         \n",
      " 0   EntryID       400 non-null    object        \n",
      " 1   Date          400 non-null    datetime64[ns]\n",
      " 2   AccountID     400 non-null    int64         \n",
      " 3   DepartmentID  400 non-null    int64         \n",
      " 4   PartyID       390 non-null    float64       \n",
      " 5   Amount        400 non-null    float64       \n",
      " 6   Type          400 non-null    object        \n",
      " 7   Description   390 non-null    object        \n",
      "dtypes: datetime64[ns](1), float64(2), int64(2), object(3)\n",
      "memory usage: 25.1+ KB\n"
     ]
    }
   ],
   "source": [
    "general_ledger.info()"
   ]
  },
  {
   "cell_type": "code",
   "execution_count": null,
   "id": "fcda9c31-db89-4de8-91f4-1a297a7dff01",
   "metadata": {},
   "outputs": [],
   "source": []
  },
  {
   "cell_type": "markdown",
   "id": "a3d55fbd-823a-48ca-a31d-de3a1d8ee8cb",
   "metadata": {},
   "source": [
    "# Step 4: Handling Missing Values"
   ]
  },
  {
   "cell_type": "markdown",
   "id": "3501ce06-6c67-483f-abf8-3cfdfe24dd42",
   "metadata": {},
   "source": [
    "## Check for missing values in each table"
   ]
  },
  {
   "cell_type": "code",
   "execution_count": 27,
   "id": "8d07a0c4-cf14-4d93-9cbd-97e5822ec8d5",
   "metadata": {},
   "outputs": [
    {
     "data": {
      "text/plain": [
       "AccountID      0\n",
       "AccountName    0\n",
       "AccountType    0\n",
       "dtype: int64"
      ]
     },
     "execution_count": 27,
     "metadata": {},
     "output_type": "execute_result"
    }
   ],
   "source": [
    "accounts.isna().sum()"
   ]
  },
  {
   "cell_type": "code",
   "execution_count": 28,
   "id": "1e113115-f8bb-4e26-98f1-395fe902835f",
   "metadata": {},
   "outputs": [
    {
     "data": {
      "text/plain": [
       "DepartmentID      0\n",
       "DepartmentName    0\n",
       "dtype: int64"
      ]
     },
     "execution_count": 28,
     "metadata": {},
     "output_type": "execute_result"
    }
   ],
   "source": [
    "departments.isna().sum()"
   ]
  },
  {
   "cell_type": "code",
   "execution_count": 29,
   "id": "4dee0c8c-33ca-4c88-8cc5-4813f6c1c7c5",
   "metadata": {},
   "outputs": [
    {
     "data": {
      "text/plain": [
       "DateID     0\n",
       "Year       0\n",
       "Month      0\n",
       "Day        0\n",
       "Quarter    0\n",
       "dtype: int64"
      ]
     },
     "execution_count": 29,
     "metadata": {},
     "output_type": "execute_result"
    }
   ],
   "source": [
    "dates.isna().sum()"
   ]
  },
  {
   "cell_type": "code",
   "execution_count": 30,
   "id": "8752e26a-28bd-4bcb-a271-8c0264cad1ac",
   "metadata": {},
   "outputs": [
    {
     "data": {
      "text/plain": [
       "PartyID      0\n",
       "PartyName    0\n",
       "PartyType    0\n",
       "dtype: int64"
      ]
     },
     "execution_count": 30,
     "metadata": {},
     "output_type": "execute_result"
    }
   ],
   "source": [
    "vendors_customers.isna().sum()"
   ]
  },
  {
   "cell_type": "code",
   "execution_count": null,
   "id": "77afdde1-6396-4dba-9174-a0853204b1bd",
   "metadata": {},
   "outputs": [],
   "source": []
  },
  {
   "cell_type": "markdown",
   "id": "10c4e62a-6897-4dca-a51e-53d0ddc07b21",
   "metadata": {},
   "source": [
    "### Find missing values in general_ledger"
   ]
  },
  {
   "cell_type": "code",
   "execution_count": 31,
   "id": "b3d9a906-082d-4fd6-a8b0-1a2d53c411a8",
   "metadata": {},
   "outputs": [
    {
     "data": {
      "text/plain": [
       "PartyID        10\n",
       "Description    10\n",
       "dtype: int64"
      ]
     },
     "execution_count": 31,
     "metadata": {},
     "output_type": "execute_result"
    }
   ],
   "source": [
    "missing_values = general_ledger.isna().sum()\n",
    "missing_values = missing_values[missing_values>0]\n",
    "missing_values"
   ]
  },
  {
   "cell_type": "code",
   "execution_count": 32,
   "id": "d3cde746-f21e-4f2f-aaa8-d01ef0e4f4ac",
   "metadata": {},
   "outputs": [
    {
     "data": {
      "text/plain": [
       "PartyID        10\n",
       "Description    10\n",
       "dtype: int64"
      ]
     },
     "execution_count": 32,
     "metadata": {},
     "output_type": "execute_result"
    }
   ],
   "source": [
    "missing_values"
   ]
  },
  {
   "cell_type": "code",
   "execution_count": null,
   "id": "ac63693a-2391-4e24-a998-a90c29cb6b1e",
   "metadata": {},
   "outputs": [],
   "source": []
  },
  {
   "cell_type": "markdown",
   "id": "aed64371-bc41-4222-a1d8-71caeca904f7",
   "metadata": {},
   "source": [
    "### Display rows where either PartyID or Description is missing"
   ]
  },
  {
   "cell_type": "code",
   "execution_count": 33,
   "id": "385dadf7-6138-4946-be56-0faf6e56b543",
   "metadata": {},
   "outputs": [
    {
     "data": {
      "text/html": [
       "<div>\n",
       "<style scoped>\n",
       "    .dataframe tbody tr th:only-of-type {\n",
       "        vertical-align: middle;\n",
       "    }\n",
       "\n",
       "    .dataframe tbody tr th {\n",
       "        vertical-align: top;\n",
       "    }\n",
       "\n",
       "    .dataframe thead th {\n",
       "        text-align: right;\n",
       "    }\n",
       "</style>\n",
       "<table border=\"1\" class=\"dataframe\">\n",
       "  <thead>\n",
       "    <tr style=\"text-align: right;\">\n",
       "      <th></th>\n",
       "      <th>EntryID</th>\n",
       "      <th>Date</th>\n",
       "      <th>AccountID</th>\n",
       "      <th>DepartmentID</th>\n",
       "      <th>PartyID</th>\n",
       "      <th>Amount</th>\n",
       "      <th>Type</th>\n",
       "      <th>Description</th>\n",
       "    </tr>\n",
       "  </thead>\n",
       "  <tbody>\n",
       "    <tr>\n",
       "      <th>70</th>\n",
       "      <td>GL0071</td>\n",
       "      <td>2023-01-13</td>\n",
       "      <td>1004</td>\n",
       "      <td>2</td>\n",
       "      <td>203.0</td>\n",
       "      <td>7745.22</td>\n",
       "      <td>Credit</td>\n",
       "      <td>NaN</td>\n",
       "    </tr>\n",
       "    <tr>\n",
       "      <th>76</th>\n",
       "      <td>GL0077</td>\n",
       "      <td>2023-02-05</td>\n",
       "      <td>1006</td>\n",
       "      <td>3</td>\n",
       "      <td>NaN</td>\n",
       "      <td>7735.58</td>\n",
       "      <td>Debit</td>\n",
       "      <td>Service revenue</td>\n",
       "    </tr>\n",
       "    <tr>\n",
       "      <th>106</th>\n",
       "      <td>GL0107</td>\n",
       "      <td>2023-06-22</td>\n",
       "      <td>1007</td>\n",
       "      <td>2</td>\n",
       "      <td>204.0</td>\n",
       "      <td>4162.79</td>\n",
       "      <td>Credit</td>\n",
       "      <td>NaN</td>\n",
       "    </tr>\n",
       "    <tr>\n",
       "      <th>118</th>\n",
       "      <td>GL0119</td>\n",
       "      <td>2023-08-12</td>\n",
       "      <td>1010</td>\n",
       "      <td>2</td>\n",
       "      <td>NaN</td>\n",
       "      <td>8936.33</td>\n",
       "      <td>Debit</td>\n",
       "      <td>Office supplies purchase</td>\n",
       "    </tr>\n",
       "    <tr>\n",
       "      <th>184</th>\n",
       "      <td>GL0185</td>\n",
       "      <td>2023-03-15</td>\n",
       "      <td>1004</td>\n",
       "      <td>2</td>\n",
       "      <td>NaN</td>\n",
       "      <td>2653.62</td>\n",
       "      <td>Credit</td>\n",
       "      <td>Equipment maintenance</td>\n",
       "    </tr>\n",
       "    <tr>\n",
       "      <th>194</th>\n",
       "      <td>GL0195</td>\n",
       "      <td>2023-06-01</td>\n",
       "      <td>1006</td>\n",
       "      <td>3</td>\n",
       "      <td>NaN</td>\n",
       "      <td>3456.39</td>\n",
       "      <td>Debit</td>\n",
       "      <td>Customer payment</td>\n",
       "    </tr>\n",
       "    <tr>\n",
       "      <th>198</th>\n",
       "      <td>GL0199</td>\n",
       "      <td>2023-07-22</td>\n",
       "      <td>1001</td>\n",
       "      <td>2</td>\n",
       "      <td>NaN</td>\n",
       "      <td>8882.16</td>\n",
       "      <td>Credit</td>\n",
       "      <td>Equipment maintenance</td>\n",
       "    </tr>\n",
       "    <tr>\n",
       "      <th>204</th>\n",
       "      <td>GL0205</td>\n",
       "      <td>2023-08-21</td>\n",
       "      <td>1006</td>\n",
       "      <td>3</td>\n",
       "      <td>NaN</td>\n",
       "      <td>6103.65</td>\n",
       "      <td>Debit</td>\n",
       "      <td>Inventory restock</td>\n",
       "    </tr>\n",
       "    <tr>\n",
       "      <th>245</th>\n",
       "      <td>GL0246</td>\n",
       "      <td>2023-07-14</td>\n",
       "      <td>1009</td>\n",
       "      <td>3</td>\n",
       "      <td>202.0</td>\n",
       "      <td>9290.35</td>\n",
       "      <td>Credit</td>\n",
       "      <td>NaN</td>\n",
       "    </tr>\n",
       "    <tr>\n",
       "      <th>249</th>\n",
       "      <td>GL0250</td>\n",
       "      <td>2023-08-24</td>\n",
       "      <td>1006</td>\n",
       "      <td>1</td>\n",
       "      <td>204.0</td>\n",
       "      <td>8544.79</td>\n",
       "      <td>Debit</td>\n",
       "      <td>NaN</td>\n",
       "    </tr>\n",
       "    <tr>\n",
       "      <th>277</th>\n",
       "      <td>GL0278</td>\n",
       "      <td>2023-12-14</td>\n",
       "      <td>1010</td>\n",
       "      <td>2</td>\n",
       "      <td>204.0</td>\n",
       "      <td>6534.64</td>\n",
       "      <td>Credit</td>\n",
       "      <td>NaN</td>\n",
       "    </tr>\n",
       "    <tr>\n",
       "      <th>280</th>\n",
       "      <td>GL0281</td>\n",
       "      <td>2023-02-22</td>\n",
       "      <td>1009</td>\n",
       "      <td>1</td>\n",
       "      <td>203.0</td>\n",
       "      <td>8911.05</td>\n",
       "      <td>Debit</td>\n",
       "      <td>NaN</td>\n",
       "    </tr>\n",
       "    <tr>\n",
       "      <th>288</th>\n",
       "      <td>GL0289</td>\n",
       "      <td>2023-10-08</td>\n",
       "      <td>1010</td>\n",
       "      <td>3</td>\n",
       "      <td>204.0</td>\n",
       "      <td>2936.76</td>\n",
       "      <td>Debit</td>\n",
       "      <td>NaN</td>\n",
       "    </tr>\n",
       "    <tr>\n",
       "      <th>289</th>\n",
       "      <td>GL0290</td>\n",
       "      <td>2023-05-02</td>\n",
       "      <td>1005</td>\n",
       "      <td>1</td>\n",
       "      <td>NaN</td>\n",
       "      <td>5949.25</td>\n",
       "      <td>Debit</td>\n",
       "      <td>Inventory restock</td>\n",
       "    </tr>\n",
       "    <tr>\n",
       "      <th>338</th>\n",
       "      <td>GL0339</td>\n",
       "      <td>2023-10-15</td>\n",
       "      <td>1002</td>\n",
       "      <td>2</td>\n",
       "      <td>NaN</td>\n",
       "      <td>4794.32</td>\n",
       "      <td>Credit</td>\n",
       "      <td>Office supplies purchase</td>\n",
       "    </tr>\n",
       "    <tr>\n",
       "      <th>342</th>\n",
       "      <td>GL0343</td>\n",
       "      <td>2023-09-13</td>\n",
       "      <td>1009</td>\n",
       "      <td>2</td>\n",
       "      <td>NaN</td>\n",
       "      <td>1814.70</td>\n",
       "      <td>Credit</td>\n",
       "      <td>Inventory restock</td>\n",
       "    </tr>\n",
       "    <tr>\n",
       "      <th>345</th>\n",
       "      <td>GL0346</td>\n",
       "      <td>2023-11-02</td>\n",
       "      <td>1008</td>\n",
       "      <td>2</td>\n",
       "      <td>201.0</td>\n",
       "      <td>6196.92</td>\n",
       "      <td>Debit</td>\n",
       "      <td>NaN</td>\n",
       "    </tr>\n",
       "    <tr>\n",
       "      <th>347</th>\n",
       "      <td>GL0348</td>\n",
       "      <td>2023-01-24</td>\n",
       "      <td>1007</td>\n",
       "      <td>1</td>\n",
       "      <td>202.0</td>\n",
       "      <td>548.51</td>\n",
       "      <td>Credit</td>\n",
       "      <td>NaN</td>\n",
       "    </tr>\n",
       "    <tr>\n",
       "      <th>371</th>\n",
       "      <td>GL0372</td>\n",
       "      <td>2023-10-03</td>\n",
       "      <td>1005</td>\n",
       "      <td>3</td>\n",
       "      <td>NaN</td>\n",
       "      <td>280.40</td>\n",
       "      <td>Debit</td>\n",
       "      <td>Office supplies purchase</td>\n",
       "    </tr>\n",
       "    <tr>\n",
       "      <th>387</th>\n",
       "      <td>GL0388</td>\n",
       "      <td>2023-05-17</td>\n",
       "      <td>1006</td>\n",
       "      <td>2</td>\n",
       "      <td>201.0</td>\n",
       "      <td>1856.65</td>\n",
       "      <td>Credit</td>\n",
       "      <td>NaN</td>\n",
       "    </tr>\n",
       "  </tbody>\n",
       "</table>\n",
       "</div>"
      ],
      "text/plain": [
       "    EntryID       Date  AccountID  DepartmentID  PartyID   Amount    Type  \\\n",
       "70   GL0071 2023-01-13       1004             2    203.0  7745.22  Credit   \n",
       "76   GL0077 2023-02-05       1006             3      NaN  7735.58   Debit   \n",
       "106  GL0107 2023-06-22       1007             2    204.0  4162.79  Credit   \n",
       "118  GL0119 2023-08-12       1010             2      NaN  8936.33   Debit   \n",
       "184  GL0185 2023-03-15       1004             2      NaN  2653.62  Credit   \n",
       "194  GL0195 2023-06-01       1006             3      NaN  3456.39   Debit   \n",
       "198  GL0199 2023-07-22       1001             2      NaN  8882.16  Credit   \n",
       "204  GL0205 2023-08-21       1006             3      NaN  6103.65   Debit   \n",
       "245  GL0246 2023-07-14       1009             3    202.0  9290.35  Credit   \n",
       "249  GL0250 2023-08-24       1006             1    204.0  8544.79   Debit   \n",
       "277  GL0278 2023-12-14       1010             2    204.0  6534.64  Credit   \n",
       "280  GL0281 2023-02-22       1009             1    203.0  8911.05   Debit   \n",
       "288  GL0289 2023-10-08       1010             3    204.0  2936.76   Debit   \n",
       "289  GL0290 2023-05-02       1005             1      NaN  5949.25   Debit   \n",
       "338  GL0339 2023-10-15       1002             2      NaN  4794.32  Credit   \n",
       "342  GL0343 2023-09-13       1009             2      NaN  1814.70  Credit   \n",
       "345  GL0346 2023-11-02       1008             2    201.0  6196.92   Debit   \n",
       "347  GL0348 2023-01-24       1007             1    202.0   548.51  Credit   \n",
       "371  GL0372 2023-10-03       1005             3      NaN   280.40   Debit   \n",
       "387  GL0388 2023-05-17       1006             2    201.0  1856.65  Credit   \n",
       "\n",
       "                  Description  \n",
       "70                        NaN  \n",
       "76            Service revenue  \n",
       "106                       NaN  \n",
       "118  Office supplies purchase  \n",
       "184     Equipment maintenance  \n",
       "194          Customer payment  \n",
       "198     Equipment maintenance  \n",
       "204         Inventory restock  \n",
       "245                       NaN  \n",
       "249                       NaN  \n",
       "277                       NaN  \n",
       "280                       NaN  \n",
       "288                       NaN  \n",
       "289         Inventory restock  \n",
       "338  Office supplies purchase  \n",
       "342         Inventory restock  \n",
       "345                       NaN  \n",
       "347                       NaN  \n",
       "371  Office supplies purchase  \n",
       "387                       NaN  "
      ]
     },
     "execution_count": 33,
     "metadata": {},
     "output_type": "execute_result"
    }
   ],
   "source": [
    "general_ledger[general_ledger[['PartyID', 'Description']].isna().any(axis = 1)]"
   ]
  },
  {
   "cell_type": "code",
   "execution_count": 34,
   "id": "ee5978f5-9025-4dab-9204-2ff45e4a0233",
   "metadata": {},
   "outputs": [],
   "source": [
    "# Filling missing Description\n",
    "general_ledger['Description'] = general_ledger['Description'].fillna('No Description')\n",
    "\n",
    "# Flaging the Missing PartyIDs\n",
    "general_ledger['MissingParty'] = general_ledger['PartyID'].isna()"
   ]
  },
  {
   "cell_type": "code",
   "execution_count": null,
   "id": "9c6c63dc-052f-459f-bf3d-36b96a4d2d40",
   "metadata": {},
   "outputs": [],
   "source": []
  },
  {
   "cell_type": "markdown",
   "id": "bcdc0301-6ffd-46e5-9f6e-0e5e4d2c3bc7",
   "metadata": {},
   "source": [
    "### Recheck if any missing values remain"
   ]
  },
  {
   "cell_type": "code",
   "execution_count": 35,
   "id": "af059d73-8ac5-4072-bdb4-9094f3052588",
   "metadata": {},
   "outputs": [
    {
     "data": {
      "text/html": [
       "<div>\n",
       "<style scoped>\n",
       "    .dataframe tbody tr th:only-of-type {\n",
       "        vertical-align: middle;\n",
       "    }\n",
       "\n",
       "    .dataframe tbody tr th {\n",
       "        vertical-align: top;\n",
       "    }\n",
       "\n",
       "    .dataframe thead th {\n",
       "        text-align: right;\n",
       "    }\n",
       "</style>\n",
       "<table border=\"1\" class=\"dataframe\">\n",
       "  <thead>\n",
       "    <tr style=\"text-align: right;\">\n",
       "      <th></th>\n",
       "      <th>EntryID</th>\n",
       "      <th>Date</th>\n",
       "      <th>AccountID</th>\n",
       "      <th>DepartmentID</th>\n",
       "      <th>PartyID</th>\n",
       "      <th>Amount</th>\n",
       "      <th>Type</th>\n",
       "      <th>Description</th>\n",
       "      <th>MissingParty</th>\n",
       "    </tr>\n",
       "  </thead>\n",
       "  <tbody>\n",
       "    <tr>\n",
       "      <th>76</th>\n",
       "      <td>GL0077</td>\n",
       "      <td>2023-02-05</td>\n",
       "      <td>1006</td>\n",
       "      <td>3</td>\n",
       "      <td>NaN</td>\n",
       "      <td>7735.58</td>\n",
       "      <td>Debit</td>\n",
       "      <td>Service revenue</td>\n",
       "      <td>True</td>\n",
       "    </tr>\n",
       "    <tr>\n",
       "      <th>118</th>\n",
       "      <td>GL0119</td>\n",
       "      <td>2023-08-12</td>\n",
       "      <td>1010</td>\n",
       "      <td>2</td>\n",
       "      <td>NaN</td>\n",
       "      <td>8936.33</td>\n",
       "      <td>Debit</td>\n",
       "      <td>Office supplies purchase</td>\n",
       "      <td>True</td>\n",
       "    </tr>\n",
       "    <tr>\n",
       "      <th>184</th>\n",
       "      <td>GL0185</td>\n",
       "      <td>2023-03-15</td>\n",
       "      <td>1004</td>\n",
       "      <td>2</td>\n",
       "      <td>NaN</td>\n",
       "      <td>2653.62</td>\n",
       "      <td>Credit</td>\n",
       "      <td>Equipment maintenance</td>\n",
       "      <td>True</td>\n",
       "    </tr>\n",
       "    <tr>\n",
       "      <th>194</th>\n",
       "      <td>GL0195</td>\n",
       "      <td>2023-06-01</td>\n",
       "      <td>1006</td>\n",
       "      <td>3</td>\n",
       "      <td>NaN</td>\n",
       "      <td>3456.39</td>\n",
       "      <td>Debit</td>\n",
       "      <td>Customer payment</td>\n",
       "      <td>True</td>\n",
       "    </tr>\n",
       "    <tr>\n",
       "      <th>198</th>\n",
       "      <td>GL0199</td>\n",
       "      <td>2023-07-22</td>\n",
       "      <td>1001</td>\n",
       "      <td>2</td>\n",
       "      <td>NaN</td>\n",
       "      <td>8882.16</td>\n",
       "      <td>Credit</td>\n",
       "      <td>Equipment maintenance</td>\n",
       "      <td>True</td>\n",
       "    </tr>\n",
       "    <tr>\n",
       "      <th>204</th>\n",
       "      <td>GL0205</td>\n",
       "      <td>2023-08-21</td>\n",
       "      <td>1006</td>\n",
       "      <td>3</td>\n",
       "      <td>NaN</td>\n",
       "      <td>6103.65</td>\n",
       "      <td>Debit</td>\n",
       "      <td>Inventory restock</td>\n",
       "      <td>True</td>\n",
       "    </tr>\n",
       "    <tr>\n",
       "      <th>289</th>\n",
       "      <td>GL0290</td>\n",
       "      <td>2023-05-02</td>\n",
       "      <td>1005</td>\n",
       "      <td>1</td>\n",
       "      <td>NaN</td>\n",
       "      <td>5949.25</td>\n",
       "      <td>Debit</td>\n",
       "      <td>Inventory restock</td>\n",
       "      <td>True</td>\n",
       "    </tr>\n",
       "    <tr>\n",
       "      <th>338</th>\n",
       "      <td>GL0339</td>\n",
       "      <td>2023-10-15</td>\n",
       "      <td>1002</td>\n",
       "      <td>2</td>\n",
       "      <td>NaN</td>\n",
       "      <td>4794.32</td>\n",
       "      <td>Credit</td>\n",
       "      <td>Office supplies purchase</td>\n",
       "      <td>True</td>\n",
       "    </tr>\n",
       "    <tr>\n",
       "      <th>342</th>\n",
       "      <td>GL0343</td>\n",
       "      <td>2023-09-13</td>\n",
       "      <td>1009</td>\n",
       "      <td>2</td>\n",
       "      <td>NaN</td>\n",
       "      <td>1814.70</td>\n",
       "      <td>Credit</td>\n",
       "      <td>Inventory restock</td>\n",
       "      <td>True</td>\n",
       "    </tr>\n",
       "    <tr>\n",
       "      <th>371</th>\n",
       "      <td>GL0372</td>\n",
       "      <td>2023-10-03</td>\n",
       "      <td>1005</td>\n",
       "      <td>3</td>\n",
       "      <td>NaN</td>\n",
       "      <td>280.40</td>\n",
       "      <td>Debit</td>\n",
       "      <td>Office supplies purchase</td>\n",
       "      <td>True</td>\n",
       "    </tr>\n",
       "  </tbody>\n",
       "</table>\n",
       "</div>"
      ],
      "text/plain": [
       "    EntryID       Date  AccountID  DepartmentID  PartyID   Amount    Type  \\\n",
       "76   GL0077 2023-02-05       1006             3      NaN  7735.58   Debit   \n",
       "118  GL0119 2023-08-12       1010             2      NaN  8936.33   Debit   \n",
       "184  GL0185 2023-03-15       1004             2      NaN  2653.62  Credit   \n",
       "194  GL0195 2023-06-01       1006             3      NaN  3456.39   Debit   \n",
       "198  GL0199 2023-07-22       1001             2      NaN  8882.16  Credit   \n",
       "204  GL0205 2023-08-21       1006             3      NaN  6103.65   Debit   \n",
       "289  GL0290 2023-05-02       1005             1      NaN  5949.25   Debit   \n",
       "338  GL0339 2023-10-15       1002             2      NaN  4794.32  Credit   \n",
       "342  GL0343 2023-09-13       1009             2      NaN  1814.70  Credit   \n",
       "371  GL0372 2023-10-03       1005             3      NaN   280.40   Debit   \n",
       "\n",
       "                  Description  MissingParty  \n",
       "76            Service revenue          True  \n",
       "118  Office supplies purchase          True  \n",
       "184     Equipment maintenance          True  \n",
       "194          Customer payment          True  \n",
       "198     Equipment maintenance          True  \n",
       "204         Inventory restock          True  \n",
       "289         Inventory restock          True  \n",
       "338  Office supplies purchase          True  \n",
       "342         Inventory restock          True  \n",
       "371  Office supplies purchase          True  "
      ]
     },
     "execution_count": 35,
     "metadata": {},
     "output_type": "execute_result"
    }
   ],
   "source": [
    "general_ledger[general_ledger.isna().any(axis = 1)]"
   ]
  },
  {
   "cell_type": "code",
   "execution_count": null,
   "id": "218c2ddf-f918-4a2e-a4e5-a64404da2b5f",
   "metadata": {},
   "outputs": [],
   "source": []
  },
  {
   "cell_type": "markdown",
   "id": "ccded2bd-1bcb-4b84-8f1a-a0a3bb3f1dc3",
   "metadata": {},
   "source": [
    "## Preview records with negative amount values"
   ]
  },
  {
   "cell_type": "code",
   "execution_count": 36,
   "id": "40288f2a-6dac-4912-8b86-48722048af9a",
   "metadata": {},
   "outputs": [
    {
     "data": {
      "text/html": [
       "<div>\n",
       "<style scoped>\n",
       "    .dataframe tbody tr th:only-of-type {\n",
       "        vertical-align: middle;\n",
       "    }\n",
       "\n",
       "    .dataframe tbody tr th {\n",
       "        vertical-align: top;\n",
       "    }\n",
       "\n",
       "    .dataframe thead th {\n",
       "        text-align: right;\n",
       "    }\n",
       "</style>\n",
       "<table border=\"1\" class=\"dataframe\">\n",
       "  <thead>\n",
       "    <tr style=\"text-align: right;\">\n",
       "      <th></th>\n",
       "      <th>EntryID</th>\n",
       "      <th>Date</th>\n",
       "      <th>AccountID</th>\n",
       "      <th>DepartmentID</th>\n",
       "      <th>PartyID</th>\n",
       "      <th>Amount</th>\n",
       "      <th>Type</th>\n",
       "      <th>Description</th>\n",
       "      <th>MissingParty</th>\n",
       "    </tr>\n",
       "  </thead>\n",
       "  <tbody>\n",
       "  </tbody>\n",
       "</table>\n",
       "</div>"
      ],
      "text/plain": [
       "Empty DataFrame\n",
       "Columns: [EntryID, Date, AccountID, DepartmentID, PartyID, Amount, Type, Description, MissingParty]\n",
       "Index: []"
      ]
     },
     "execution_count": 36,
     "metadata": {},
     "output_type": "execute_result"
    }
   ],
   "source": [
    "general_ledger[general_ledger['Amount'] < 0 ]"
   ]
  },
  {
   "cell_type": "code",
   "execution_count": null,
   "id": "6f5207c3-1f03-4f49-95ea-ebf16254303d",
   "metadata": {},
   "outputs": [],
   "source": []
  },
  {
   "cell_type": "markdown",
   "id": "4032209f-fceb-4e0e-9fda-3f8ef4ee9b94",
   "metadata": {},
   "source": [
    "## Check for duplicates in all tables"
   ]
  },
  {
   "cell_type": "code",
   "execution_count": 37,
   "id": "bcf869c6-4bdf-466b-8fac-26b53c910ef0",
   "metadata": {},
   "outputs": [
    {
     "data": {
      "text/plain": [
       "np.int64(0)"
      ]
     },
     "execution_count": 37,
     "metadata": {},
     "output_type": "execute_result"
    }
   ],
   "source": [
    "accounts.duplicated().sum()"
   ]
  },
  {
   "cell_type": "code",
   "execution_count": 38,
   "id": "0e6a7172-260a-467d-9923-735a2be1c2d1",
   "metadata": {},
   "outputs": [
    {
     "data": {
      "text/plain": [
       "np.int64(0)"
      ]
     },
     "execution_count": 38,
     "metadata": {},
     "output_type": "execute_result"
    }
   ],
   "source": [
    "departments.duplicated().sum()"
   ]
  },
  {
   "cell_type": "code",
   "execution_count": 39,
   "id": "c72f65bc-46e5-4e61-88d7-4b2d43f95769",
   "metadata": {},
   "outputs": [
    {
     "data": {
      "text/plain": [
       "np.int64(0)"
      ]
     },
     "execution_count": 39,
     "metadata": {},
     "output_type": "execute_result"
    }
   ],
   "source": [
    "dates.duplicated().sum()"
   ]
  },
  {
   "cell_type": "code",
   "execution_count": 40,
   "id": "7c6257cf-02ca-47e6-8de2-d3786a1d75ea",
   "metadata": {},
   "outputs": [
    {
     "data": {
      "text/plain": [
       "np.int64(0)"
      ]
     },
     "execution_count": 40,
     "metadata": {},
     "output_type": "execute_result"
    }
   ],
   "source": [
    "vendors_customers.duplicated().sum()"
   ]
  },
  {
   "cell_type": "code",
   "execution_count": 41,
   "id": "dfe3ae48-216a-4fd3-a10f-c716e5b482d0",
   "metadata": {},
   "outputs": [
    {
     "data": {
      "text/plain": [
       "np.int64(0)"
      ]
     },
     "execution_count": 41,
     "metadata": {},
     "output_type": "execute_result"
    }
   ],
   "source": [
    "general_ledger.duplicated().sum()"
   ]
  },
  {
   "cell_type": "code",
   "execution_count": null,
   "id": "a6238c13-34e0-4fc1-9d17-7b5c7aa19c51",
   "metadata": {},
   "outputs": [],
   "source": []
  },
  {
   "cell_type": "markdown",
   "id": "500a6a9a-58d0-4ae9-97fb-29d95ff998fb",
   "metadata": {},
   "source": [
    "## # Merge dimension tables with the fact table to enrich context"
   ]
  },
  {
   "cell_type": "code",
   "execution_count": 43,
   "id": "e26aa9e6-769a-4c8c-8de8-86c197ff41b1",
   "metadata": {},
   "outputs": [
    {
     "data": {
      "text/plain": [
       "['EntryID',\n",
       " 'Date',\n",
       " 'AccountID',\n",
       " 'DepartmentID',\n",
       " 'PartyID',\n",
       " 'Amount',\n",
       " 'Type',\n",
       " 'Description',\n",
       " 'MissingParty']"
      ]
     },
     "execution_count": 43,
     "metadata": {},
     "output_type": "execute_result"
    }
   ],
   "source": [
    "general_ledger.columns.to_list()"
   ]
  },
  {
   "cell_type": "code",
   "execution_count": 44,
   "id": "da0e02c8-cace-4500-9f3c-559fd6416ff3",
   "metadata": {},
   "outputs": [],
   "source": [
    "ledger = (\n",
    "    general_ledger.merge(accounts, on = 'AccountID', how = 'left')\n",
    "    .merge(departments, on = 'DepartmentID', how = 'left')\n",
    "    .merge(vendors_customers, on = 'PartyID', how = 'left')\n",
    "    .merge(dates, left_on = 'Date', right_on = 'DateID', how = 'left')\n",
    ")"
   ]
  },
  {
   "cell_type": "code",
   "execution_count": 45,
   "id": "092a89ff-f5f3-4b30-976a-9d3194a5097a",
   "metadata": {},
   "outputs": [
    {
     "data": {
      "text/html": [
       "<div>\n",
       "<style scoped>\n",
       "    .dataframe tbody tr th:only-of-type {\n",
       "        vertical-align: middle;\n",
       "    }\n",
       "\n",
       "    .dataframe tbody tr th {\n",
       "        vertical-align: top;\n",
       "    }\n",
       "\n",
       "    .dataframe thead th {\n",
       "        text-align: right;\n",
       "    }\n",
       "</style>\n",
       "<table border=\"1\" class=\"dataframe\">\n",
       "  <thead>\n",
       "    <tr style=\"text-align: right;\">\n",
       "      <th></th>\n",
       "      <th>EntryID</th>\n",
       "      <th>Date</th>\n",
       "      <th>AccountID</th>\n",
       "      <th>DepartmentID</th>\n",
       "      <th>PartyID</th>\n",
       "      <th>Amount</th>\n",
       "      <th>Type</th>\n",
       "      <th>Description</th>\n",
       "      <th>MissingParty</th>\n",
       "      <th>AccountName</th>\n",
       "      <th>AccountType</th>\n",
       "      <th>DepartmentName</th>\n",
       "      <th>PartyName</th>\n",
       "      <th>PartyType</th>\n",
       "      <th>DateID</th>\n",
       "      <th>Year</th>\n",
       "      <th>Month</th>\n",
       "      <th>Day</th>\n",
       "      <th>Quarter</th>\n",
       "    </tr>\n",
       "  </thead>\n",
       "  <tbody>\n",
       "    <tr>\n",
       "      <th>0</th>\n",
       "      <td>GL0001</td>\n",
       "      <td>2023-11-24</td>\n",
       "      <td>1002</td>\n",
       "      <td>1</td>\n",
       "      <td>203.0</td>\n",
       "      <td>3807.95</td>\n",
       "      <td>Debit</td>\n",
       "      <td>Customer payment</td>\n",
       "      <td>False</td>\n",
       "      <td>Accounts Receivable</td>\n",
       "      <td>Asset</td>\n",
       "      <td>Sales</td>\n",
       "      <td>Global Tech</td>\n",
       "      <td>Customer</td>\n",
       "      <td>2023-11-24</td>\n",
       "      <td>2023</td>\n",
       "      <td>11</td>\n",
       "      <td>24</td>\n",
       "      <td>4</td>\n",
       "    </tr>\n",
       "    <tr>\n",
       "      <th>1</th>\n",
       "      <td>GL0002</td>\n",
       "      <td>2023-03-13</td>\n",
       "      <td>1002</td>\n",
       "      <td>3</td>\n",
       "      <td>201.0</td>\n",
       "      <td>9512.07</td>\n",
       "      <td>Credit</td>\n",
       "      <td>Office supplies purchase</td>\n",
       "      <td>False</td>\n",
       "      <td>Accounts Receivable</td>\n",
       "      <td>Asset</td>\n",
       "      <td>Administration</td>\n",
       "      <td>ABC Supplies</td>\n",
       "      <td>Vendor</td>\n",
       "      <td>2023-03-13</td>\n",
       "      <td>2023</td>\n",
       "      <td>3</td>\n",
       "      <td>13</td>\n",
       "      <td>1</td>\n",
       "    </tr>\n",
       "    <tr>\n",
       "      <th>2</th>\n",
       "      <td>GL0003</td>\n",
       "      <td>2023-01-16</td>\n",
       "      <td>1002</td>\n",
       "      <td>1</td>\n",
       "      <td>202.0</td>\n",
       "      <td>7346.74</td>\n",
       "      <td>Debit</td>\n",
       "      <td>Software license</td>\n",
       "      <td>False</td>\n",
       "      <td>Accounts Receivable</td>\n",
       "      <td>Asset</td>\n",
       "      <td>Sales</td>\n",
       "      <td>XYZ Retail</td>\n",
       "      <td>Customer</td>\n",
       "      <td>2023-01-16</td>\n",
       "      <td>2023</td>\n",
       "      <td>1</td>\n",
       "      <td>16</td>\n",
       "      <td>1</td>\n",
       "    </tr>\n",
       "    <tr>\n",
       "      <th>3</th>\n",
       "      <td>GL0004</td>\n",
       "      <td>2023-04-12</td>\n",
       "      <td>1009</td>\n",
       "      <td>2</td>\n",
       "      <td>202.0</td>\n",
       "      <td>6026.72</td>\n",
       "      <td>Credit</td>\n",
       "      <td>Software license</td>\n",
       "      <td>False</td>\n",
       "      <td>Cost of Goods Sold</td>\n",
       "      <td>Expense</td>\n",
       "      <td>Operations</td>\n",
       "      <td>XYZ Retail</td>\n",
       "      <td>Customer</td>\n",
       "      <td>2023-04-12</td>\n",
       "      <td>2023</td>\n",
       "      <td>4</td>\n",
       "      <td>12</td>\n",
       "      <td>2</td>\n",
       "    </tr>\n",
       "    <tr>\n",
       "      <th>4</th>\n",
       "      <td>GL0005</td>\n",
       "      <td>2023-05-23</td>\n",
       "      <td>1001</td>\n",
       "      <td>1</td>\n",
       "      <td>204.0</td>\n",
       "      <td>1644.58</td>\n",
       "      <td>Credit</td>\n",
       "      <td>Equipment maintenance</td>\n",
       "      <td>False</td>\n",
       "      <td>Cash</td>\n",
       "      <td>Asset</td>\n",
       "      <td>Sales</td>\n",
       "      <td>FastMart</td>\n",
       "      <td>Vendor</td>\n",
       "      <td>2023-05-23</td>\n",
       "      <td>2023</td>\n",
       "      <td>5</td>\n",
       "      <td>23</td>\n",
       "      <td>2</td>\n",
       "    </tr>\n",
       "  </tbody>\n",
       "</table>\n",
       "</div>"
      ],
      "text/plain": [
       "  EntryID       Date  AccountID  DepartmentID  PartyID   Amount    Type  \\\n",
       "0  GL0001 2023-11-24       1002             1    203.0  3807.95   Debit   \n",
       "1  GL0002 2023-03-13       1002             3    201.0  9512.07  Credit   \n",
       "2  GL0003 2023-01-16       1002             1    202.0  7346.74   Debit   \n",
       "3  GL0004 2023-04-12       1009             2    202.0  6026.72  Credit   \n",
       "4  GL0005 2023-05-23       1001             1    204.0  1644.58  Credit   \n",
       "\n",
       "                Description  MissingParty          AccountName AccountType  \\\n",
       "0          Customer payment         False  Accounts Receivable       Asset   \n",
       "1  Office supplies purchase         False  Accounts Receivable       Asset   \n",
       "2          Software license         False  Accounts Receivable       Asset   \n",
       "3          Software license         False   Cost of Goods Sold     Expense   \n",
       "4     Equipment maintenance         False                 Cash       Asset   \n",
       "\n",
       "   DepartmentName     PartyName PartyType     DateID  Year  Month  Day  \\\n",
       "0           Sales   Global Tech  Customer 2023-11-24  2023     11   24   \n",
       "1  Administration  ABC Supplies    Vendor 2023-03-13  2023      3   13   \n",
       "2           Sales    XYZ Retail  Customer 2023-01-16  2023      1   16   \n",
       "3      Operations    XYZ Retail  Customer 2023-04-12  2023      4   12   \n",
       "4           Sales      FastMart    Vendor 2023-05-23  2023      5   23   \n",
       "\n",
       "   Quarter  \n",
       "0        4  \n",
       "1        1  \n",
       "2        1  \n",
       "3        2  \n",
       "4        2  "
      ]
     },
     "execution_count": 45,
     "metadata": {},
     "output_type": "execute_result"
    }
   ],
   "source": [
    "ledger.head()"
   ]
  },
  {
   "cell_type": "code",
   "execution_count": null,
   "id": "4be9e979-467d-4afb-8561-93a50109f2f5",
   "metadata": {},
   "outputs": [],
   "source": []
  },
  {
   "cell_type": "markdown",
   "id": "ea8e7078-a34a-4086-bc5d-945c9654511e",
   "metadata": {},
   "source": [
    "# Step 5: General Financial Statements"
   ]
  },
  {
   "cell_type": "markdown",
   "id": "a8b6aa45-eb20-4363-a4ed-625bea5555d2",
   "metadata": {},
   "source": [
    "## Income Statement"
   ]
  },
  {
   "cell_type": "code",
   "execution_count": 548,
   "id": "6d90576e-7954-4489-a187-a2dd9b79ef48",
   "metadata": {},
   "outputs": [
    {
     "data": {
      "text/html": [
       "<div>\n",
       "<style scoped>\n",
       "    .dataframe tbody tr th:only-of-type {\n",
       "        vertical-align: middle;\n",
       "    }\n",
       "\n",
       "    .dataframe tbody tr th {\n",
       "        vertical-align: top;\n",
       "    }\n",
       "\n",
       "    .dataframe thead th {\n",
       "        text-align: right;\n",
       "    }\n",
       "</style>\n",
       "<table border=\"1\" class=\"dataframe\">\n",
       "  <thead>\n",
       "    <tr style=\"text-align: right;\">\n",
       "      <th></th>\n",
       "      <th>EntryID</th>\n",
       "      <th>Date</th>\n",
       "      <th>AccountID</th>\n",
       "      <th>DepartmentID</th>\n",
       "      <th>PartyID</th>\n",
       "      <th>Amount</th>\n",
       "      <th>Type</th>\n",
       "      <th>Description</th>\n",
       "      <th>MissingParty</th>\n",
       "      <th>AccountName</th>\n",
       "      <th>AccountType</th>\n",
       "      <th>DepartmentName</th>\n",
       "      <th>PartyName</th>\n",
       "      <th>PartyType</th>\n",
       "      <th>DateID</th>\n",
       "      <th>Year</th>\n",
       "      <th>Month</th>\n",
       "      <th>Day</th>\n",
       "      <th>Quarter</th>\n",
       "    </tr>\n",
       "  </thead>\n",
       "  <tbody>\n",
       "    <tr>\n",
       "      <th>3</th>\n",
       "      <td>GL0004</td>\n",
       "      <td>2023-04-12</td>\n",
       "      <td>1009</td>\n",
       "      <td>2</td>\n",
       "      <td>202.0</td>\n",
       "      <td>6026.72</td>\n",
       "      <td>Credit</td>\n",
       "      <td>Software license</td>\n",
       "      <td>False</td>\n",
       "      <td>Cost of Goods Sold</td>\n",
       "      <td>Expense</td>\n",
       "      <td>Operations</td>\n",
       "      <td>XYZ Retail</td>\n",
       "      <td>Customer</td>\n",
       "      <td>2023-04-12</td>\n",
       "      <td>2023</td>\n",
       "      <td>4</td>\n",
       "      <td>12</td>\n",
       "      <td>2</td>\n",
       "    </tr>\n",
       "    <tr>\n",
       "      <th>7</th>\n",
       "      <td>GL0008</td>\n",
       "      <td>2023-08-24</td>\n",
       "      <td>1009</td>\n",
       "      <td>1</td>\n",
       "      <td>204.0</td>\n",
       "      <td>8675.14</td>\n",
       "      <td>Debit</td>\n",
       "      <td>Software license</td>\n",
       "      <td>False</td>\n",
       "      <td>Cost of Goods Sold</td>\n",
       "      <td>Expense</td>\n",
       "      <td>Sales</td>\n",
       "      <td>FastMart</td>\n",
       "      <td>Vendor</td>\n",
       "      <td>2023-08-24</td>\n",
       "      <td>2023</td>\n",
       "      <td>8</td>\n",
       "      <td>24</td>\n",
       "      <td>3</td>\n",
       "    </tr>\n",
       "    <tr>\n",
       "      <th>8</th>\n",
       "      <td>GL0009</td>\n",
       "      <td>2023-05-31</td>\n",
       "      <td>1010</td>\n",
       "      <td>2</td>\n",
       "      <td>202.0</td>\n",
       "      <td>6051.04</td>\n",
       "      <td>Debit</td>\n",
       "      <td>Office supplies purchase</td>\n",
       "      <td>False</td>\n",
       "      <td>Operating Expenses</td>\n",
       "      <td>Expense</td>\n",
       "      <td>Operations</td>\n",
       "      <td>XYZ Retail</td>\n",
       "      <td>Customer</td>\n",
       "      <td>2023-05-31</td>\n",
       "      <td>2023</td>\n",
       "      <td>5</td>\n",
       "      <td>31</td>\n",
       "      <td>2</td>\n",
       "    </tr>\n",
       "    <tr>\n",
       "      <th>15</th>\n",
       "      <td>GL0016</td>\n",
       "      <td>2023-04-19</td>\n",
       "      <td>1010</td>\n",
       "      <td>3</td>\n",
       "      <td>203.0</td>\n",
       "      <td>1915.70</td>\n",
       "      <td>Debit</td>\n",
       "      <td>Service revenue</td>\n",
       "      <td>False</td>\n",
       "      <td>Operating Expenses</td>\n",
       "      <td>Expense</td>\n",
       "      <td>Administration</td>\n",
       "      <td>Global Tech</td>\n",
       "      <td>Customer</td>\n",
       "      <td>2023-04-19</td>\n",
       "      <td>2023</td>\n",
       "      <td>4</td>\n",
       "      <td>19</td>\n",
       "      <td>2</td>\n",
       "    </tr>\n",
       "    <tr>\n",
       "      <th>23</th>\n",
       "      <td>GL0024</td>\n",
       "      <td>2023-05-15</td>\n",
       "      <td>1009</td>\n",
       "      <td>1</td>\n",
       "      <td>201.0</td>\n",
       "      <td>3726.98</td>\n",
       "      <td>Credit</td>\n",
       "      <td>Service revenue</td>\n",
       "      <td>False</td>\n",
       "      <td>Cost of Goods Sold</td>\n",
       "      <td>Expense</td>\n",
       "      <td>Sales</td>\n",
       "      <td>ABC Supplies</td>\n",
       "      <td>Vendor</td>\n",
       "      <td>2023-05-15</td>\n",
       "      <td>2023</td>\n",
       "      <td>5</td>\n",
       "      <td>15</td>\n",
       "      <td>2</td>\n",
       "    </tr>\n",
       "  </tbody>\n",
       "</table>\n",
       "</div>"
      ],
      "text/plain": [
       "   EntryID       Date  AccountID  DepartmentID  PartyID   Amount    Type  \\\n",
       "3   GL0004 2023-04-12       1009             2    202.0  6026.72  Credit   \n",
       "7   GL0008 2023-08-24       1009             1    204.0  8675.14   Debit   \n",
       "8   GL0009 2023-05-31       1010             2    202.0  6051.04   Debit   \n",
       "15  GL0016 2023-04-19       1010             3    203.0  1915.70   Debit   \n",
       "23  GL0024 2023-05-15       1009             1    201.0  3726.98  Credit   \n",
       "\n",
       "                 Description  MissingParty         AccountName AccountType  \\\n",
       "3           Software license         False  Cost of Goods Sold     Expense   \n",
       "7           Software license         False  Cost of Goods Sold     Expense   \n",
       "8   Office supplies purchase         False  Operating Expenses     Expense   \n",
       "15           Service revenue         False  Operating Expenses     Expense   \n",
       "23           Service revenue         False  Cost of Goods Sold     Expense   \n",
       "\n",
       "    DepartmentName     PartyName PartyType     DateID  Year  Month  Day  \\\n",
       "3       Operations    XYZ Retail  Customer 2023-04-12  2023      4   12   \n",
       "7            Sales      FastMart    Vendor 2023-08-24  2023      8   24   \n",
       "8       Operations    XYZ Retail  Customer 2023-05-31  2023      5   31   \n",
       "15  Administration   Global Tech  Customer 2023-04-19  2023      4   19   \n",
       "23           Sales  ABC Supplies    Vendor 2023-05-15  2023      5   15   \n",
       "\n",
       "    Quarter  \n",
       "3         2  \n",
       "7         3  \n",
       "8         2  \n",
       "15        2  \n",
       "23        2  "
      ]
     },
     "execution_count": 548,
     "metadata": {},
     "output_type": "execute_result"
    }
   ],
   "source": [
    "# Filter ledger for revenue and expense accounts\n",
    "income_statement = ledger[ledger['AccountType'].isin(['Revenue', 'Expense'])]\n",
    "income_statement.head()"
   ]
  },
  {
   "cell_type": "code",
   "execution_count": null,
   "id": "9fb4ac52-74cb-4470-884e-defe2a55814d",
   "metadata": {},
   "outputs": [],
   "source": []
  },
  {
   "cell_type": "code",
   "execution_count": 551,
   "id": "6e5e543c-a786-43ac-a40f-640aecd1e610",
   "metadata": {},
   "outputs": [
    {
     "data": {
      "text/html": [
       "<div>\n",
       "<style scoped>\n",
       "    .dataframe tbody tr th:only-of-type {\n",
       "        vertical-align: middle;\n",
       "    }\n",
       "\n",
       "    .dataframe tbody tr th {\n",
       "        vertical-align: top;\n",
       "    }\n",
       "\n",
       "    .dataframe thead th {\n",
       "        text-align: right;\n",
       "    }\n",
       "</style>\n",
       "<table border=\"1\" class=\"dataframe\">\n",
       "  <thead>\n",
       "    <tr style=\"text-align: right;\">\n",
       "      <th></th>\n",
       "      <th>Amount</th>\n",
       "    </tr>\n",
       "    <tr>\n",
       "      <th>AccountType</th>\n",
       "      <th></th>\n",
       "    </tr>\n",
       "  </thead>\n",
       "  <tbody>\n",
       "    <tr>\n",
       "      <th>Expense</th>\n",
       "      <td>419728.71</td>\n",
       "    </tr>\n",
       "    <tr>\n",
       "      <th>Revenue</th>\n",
       "      <td>166177.07</td>\n",
       "    </tr>\n",
       "  </tbody>\n",
       "</table>\n",
       "</div>"
      ],
      "text/plain": [
       "                Amount\n",
       "AccountType           \n",
       "Expense      419728.71\n",
       "Revenue      166177.07"
      ]
     },
     "execution_count": 551,
     "metadata": {},
     "output_type": "execute_result"
    }
   ],
   "source": [
    "# Group by AccountType to get total Revenue and Expense\n",
    "summary = income_statement.groupby('AccountType')['Amount'].sum()\n",
    "summary.to_frame()"
   ]
  },
  {
   "cell_type": "code",
   "execution_count": null,
   "id": "1fb39657-ec25-4d80-8419-c5ddaef343cc",
   "metadata": {},
   "outputs": [],
   "source": []
  },
  {
   "cell_type": "code",
   "execution_count": 554,
   "id": "20348e51-df09-481d-92e2-c0b849e91846",
   "metadata": {},
   "outputs": [
    {
     "name": "stdout",
     "output_type": "stream",
     "text": [
      "Net Income: \u001b[1m-253,551.64\u001b[1m\n"
     ]
    }
   ],
   "source": [
    "# Calculate Net Income (Revenue - Expense)\n",
    "net_income = summary['Revenue'] - summary['Expense']\n",
    "print(f\"Net Income: \\033[1m{net_income: ,}\\033[1m\")"
   ]
  },
  {
   "cell_type": "code",
   "execution_count": null,
   "id": "0b9ae918-35f4-49b6-be61-ad1c9f60ff10",
   "metadata": {},
   "outputs": [],
   "source": []
  },
  {
   "cell_type": "markdown",
   "id": "ca72ac83-1a64-4e09-a194-abe657abc58e",
   "metadata": {},
   "source": [
    "## Balance Sheet"
   ]
  },
  {
   "cell_type": "code",
   "execution_count": 556,
   "id": "a79ffc05-dc0a-4b22-944d-9f5e9fedd5ce",
   "metadata": {},
   "outputs": [],
   "source": [
    "# Get latest available month from the ledger\n",
    "latest_month = ledger['Date'].max().strftime('%Y-%m')\n",
    "balance_sheet = ledger.copy()"
   ]
  },
  {
   "cell_type": "code",
   "execution_count": 562,
   "id": "2d3c9398-40ed-4f06-a11e-8f4b16691bf1",
   "metadata": {},
   "outputs": [],
   "source": [
    "# Extract Year-Month period for grouping\n",
    "balance_sheet['YearMonth'] = balance_sheet['Date'].dt.to_period('M')"
   ]
  },
  {
   "cell_type": "code",
   "execution_count": 564,
   "id": "ef08f6a7-2f74-45da-9c74-edb00b329dc2",
   "metadata": {},
   "outputs": [
    {
     "data": {
      "text/html": [
       "<div>\n",
       "<style scoped>\n",
       "    .dataframe tbody tr th:only-of-type {\n",
       "        vertical-align: middle;\n",
       "    }\n",
       "\n",
       "    .dataframe tbody tr th {\n",
       "        vertical-align: top;\n",
       "    }\n",
       "\n",
       "    .dataframe thead th {\n",
       "        text-align: right;\n",
       "    }\n",
       "</style>\n",
       "<table border=\"1\" class=\"dataframe\">\n",
       "  <thead>\n",
       "    <tr style=\"text-align: right;\">\n",
       "      <th></th>\n",
       "      <th>EntryID</th>\n",
       "      <th>Date</th>\n",
       "      <th>AccountID</th>\n",
       "      <th>DepartmentID</th>\n",
       "      <th>PartyID</th>\n",
       "      <th>Amount</th>\n",
       "      <th>Type</th>\n",
       "      <th>Description</th>\n",
       "      <th>MissingParty</th>\n",
       "      <th>AccountName</th>\n",
       "      <th>AccountType</th>\n",
       "      <th>DepartmentName</th>\n",
       "      <th>PartyName</th>\n",
       "      <th>PartyType</th>\n",
       "      <th>DateID</th>\n",
       "      <th>Year</th>\n",
       "      <th>Month</th>\n",
       "      <th>Day</th>\n",
       "      <th>Quarter</th>\n",
       "      <th>YearMonth</th>\n",
       "    </tr>\n",
       "  </thead>\n",
       "  <tbody>\n",
       "    <tr>\n",
       "      <th>0</th>\n",
       "      <td>GL0001</td>\n",
       "      <td>2023-11-24</td>\n",
       "      <td>1002</td>\n",
       "      <td>1</td>\n",
       "      <td>203.0</td>\n",
       "      <td>3807.95</td>\n",
       "      <td>Debit</td>\n",
       "      <td>Customer payment</td>\n",
       "      <td>False</td>\n",
       "      <td>Accounts Receivable</td>\n",
       "      <td>Asset</td>\n",
       "      <td>Sales</td>\n",
       "      <td>Global Tech</td>\n",
       "      <td>Customer</td>\n",
       "      <td>2023-11-24</td>\n",
       "      <td>2023</td>\n",
       "      <td>11</td>\n",
       "      <td>24</td>\n",
       "      <td>4</td>\n",
       "      <td>2023-11</td>\n",
       "    </tr>\n",
       "    <tr>\n",
       "      <th>1</th>\n",
       "      <td>GL0002</td>\n",
       "      <td>2023-03-13</td>\n",
       "      <td>1002</td>\n",
       "      <td>3</td>\n",
       "      <td>201.0</td>\n",
       "      <td>9512.07</td>\n",
       "      <td>Credit</td>\n",
       "      <td>Office supplies purchase</td>\n",
       "      <td>False</td>\n",
       "      <td>Accounts Receivable</td>\n",
       "      <td>Asset</td>\n",
       "      <td>Administration</td>\n",
       "      <td>ABC Supplies</td>\n",
       "      <td>Vendor</td>\n",
       "      <td>2023-03-13</td>\n",
       "      <td>2023</td>\n",
       "      <td>3</td>\n",
       "      <td>13</td>\n",
       "      <td>1</td>\n",
       "      <td>2023-03</td>\n",
       "    </tr>\n",
       "    <tr>\n",
       "      <th>2</th>\n",
       "      <td>GL0003</td>\n",
       "      <td>2023-01-16</td>\n",
       "      <td>1002</td>\n",
       "      <td>1</td>\n",
       "      <td>202.0</td>\n",
       "      <td>7346.74</td>\n",
       "      <td>Debit</td>\n",
       "      <td>Software license</td>\n",
       "      <td>False</td>\n",
       "      <td>Accounts Receivable</td>\n",
       "      <td>Asset</td>\n",
       "      <td>Sales</td>\n",
       "      <td>XYZ Retail</td>\n",
       "      <td>Customer</td>\n",
       "      <td>2023-01-16</td>\n",
       "      <td>2023</td>\n",
       "      <td>1</td>\n",
       "      <td>16</td>\n",
       "      <td>1</td>\n",
       "      <td>2023-01</td>\n",
       "    </tr>\n",
       "    <tr>\n",
       "      <th>3</th>\n",
       "      <td>GL0004</td>\n",
       "      <td>2023-04-12</td>\n",
       "      <td>1009</td>\n",
       "      <td>2</td>\n",
       "      <td>202.0</td>\n",
       "      <td>6026.72</td>\n",
       "      <td>Credit</td>\n",
       "      <td>Software license</td>\n",
       "      <td>False</td>\n",
       "      <td>Cost of Goods Sold</td>\n",
       "      <td>Expense</td>\n",
       "      <td>Operations</td>\n",
       "      <td>XYZ Retail</td>\n",
       "      <td>Customer</td>\n",
       "      <td>2023-04-12</td>\n",
       "      <td>2023</td>\n",
       "      <td>4</td>\n",
       "      <td>12</td>\n",
       "      <td>2</td>\n",
       "      <td>2023-04</td>\n",
       "    </tr>\n",
       "    <tr>\n",
       "      <th>4</th>\n",
       "      <td>GL0005</td>\n",
       "      <td>2023-05-23</td>\n",
       "      <td>1001</td>\n",
       "      <td>1</td>\n",
       "      <td>204.0</td>\n",
       "      <td>1644.58</td>\n",
       "      <td>Credit</td>\n",
       "      <td>Equipment maintenance</td>\n",
       "      <td>False</td>\n",
       "      <td>Cash</td>\n",
       "      <td>Asset</td>\n",
       "      <td>Sales</td>\n",
       "      <td>FastMart</td>\n",
       "      <td>Vendor</td>\n",
       "      <td>2023-05-23</td>\n",
       "      <td>2023</td>\n",
       "      <td>5</td>\n",
       "      <td>23</td>\n",
       "      <td>2</td>\n",
       "      <td>2023-05</td>\n",
       "    </tr>\n",
       "  </tbody>\n",
       "</table>\n",
       "</div>"
      ],
      "text/plain": [
       "  EntryID       Date  AccountID  DepartmentID  PartyID   Amount    Type  \\\n",
       "0  GL0001 2023-11-24       1002             1    203.0  3807.95   Debit   \n",
       "1  GL0002 2023-03-13       1002             3    201.0  9512.07  Credit   \n",
       "2  GL0003 2023-01-16       1002             1    202.0  7346.74   Debit   \n",
       "3  GL0004 2023-04-12       1009             2    202.0  6026.72  Credit   \n",
       "4  GL0005 2023-05-23       1001             1    204.0  1644.58  Credit   \n",
       "\n",
       "                Description  MissingParty          AccountName AccountType  \\\n",
       "0          Customer payment         False  Accounts Receivable       Asset   \n",
       "1  Office supplies purchase         False  Accounts Receivable       Asset   \n",
       "2          Software license         False  Accounts Receivable       Asset   \n",
       "3          Software license         False   Cost of Goods Sold     Expense   \n",
       "4     Equipment maintenance         False                 Cash       Asset   \n",
       "\n",
       "   DepartmentName     PartyName PartyType     DateID  Year  Month  Day  \\\n",
       "0           Sales   Global Tech  Customer 2023-11-24  2023     11   24   \n",
       "1  Administration  ABC Supplies    Vendor 2023-03-13  2023      3   13   \n",
       "2           Sales    XYZ Retail  Customer 2023-01-16  2023      1   16   \n",
       "3      Operations    XYZ Retail  Customer 2023-04-12  2023      4   12   \n",
       "4           Sales      FastMart    Vendor 2023-05-23  2023      5   23   \n",
       "\n",
       "   Quarter YearMonth  \n",
       "0        4   2023-11  \n",
       "1        1   2023-03  \n",
       "2        1   2023-01  \n",
       "3        2   2023-04  \n",
       "4        2   2023-05  "
      ]
     },
     "execution_count": 564,
     "metadata": {},
     "output_type": "execute_result"
    }
   ],
   "source": [
    "balance_sheet.head()"
   ]
  },
  {
   "cell_type": "code",
   "execution_count": 566,
   "id": "e18e7349-5830-441e-998c-6711032235c5",
   "metadata": {},
   "outputs": [
    {
     "data": {
      "text/plain": [
       "AccountType\n",
       "Asset        73628.01\n",
       "Equity       29931.52\n",
       "Liability    52002.31\n",
       "Name: Amount, dtype: float64"
      ]
     },
     "execution_count": 566,
     "metadata": {},
     "output_type": "execute_result"
    }
   ],
   "source": [
    "# Filter balance sheet for the latest month\n",
    "bs_latest = balance_sheet[balance_sheet['YearMonth'] == latest_month]\n",
    "\n",
    "# Group by AccountType to get totals for Assets, Liabilities, and Equity\n",
    "balance_summary = bs_latest[bs_latest['AccountType'].isin(['Asset', 'Liability', 'Equity'])].groupby('AccountType')['Amount'].sum()\n",
    "balance_summary"
   ]
  },
  {
   "cell_type": "code",
   "execution_count": null,
   "id": "c93e3654-8bc0-4300-885f-c216ed140ab8",
   "metadata": {},
   "outputs": [],
   "source": []
  },
  {
   "cell_type": "markdown",
   "id": "276c548a-eafa-4431-a98f-40a4686ce357",
   "metadata": {},
   "source": [
    "# Step 6: Calculate KPIs"
   ]
  },
  {
   "cell_type": "code",
   "execution_count": 570,
   "id": "9194cf77-6e59-47cd-bf1f-d58a861a93b7",
   "metadata": {},
   "outputs": [],
   "source": [
    "# Extract values from earlier summaries\n",
    "\n",
    "revenue = summary.get('Revenue', 0)\n",
    "expenses = summary.get('Expense', 0)\n",
    "assets = balance_summary.get('Asset', 0)\n",
    "\n",
    "# Calculate ratios\n",
    "profit_margin = (net_income / revenue) * 100 if revenue else 0\n",
    "expense_ratio = (expenses / revenue) * 100 if revenue else 0"
   ]
  },
  {
   "cell_type": "code",
   "execution_count": 572,
   "id": "8c07270f-7c80-4c8b-8467-bdfefa79bfe5",
   "metadata": {},
   "outputs": [
    {
     "name": "stdout",
     "output_type": "stream",
     "text": [
      "==================================================\n",
      "\u001b[1m                  Important KPIs                  \u001b[0m\n",
      "==================================================\n",
      "Revenue       : \u001b[1m$ 166,177.07\u001b[0m\n",
      "Expenses      : \u001b[1m$ 419,728.71\u001b[0m\n",
      "Assets        : \u001b[1m$ 73,628.01\u001b[0m\n",
      "Profit Margin : \u001b[1m-152.58%\u001b[0m\n",
      "Expense Ratio : \u001b[1m 252.58%\u001b[0m\n",
      "--------------------------------------------------\n"
     ]
    }
   ],
   "source": [
    "# Display KPIs with formatting\n",
    "\n",
    "kpi_title = 'Important KPIs'\n",
    "\n",
    "print('='*50)\n",
    "print(f\"\\033[1m{kpi_title:^50}\\033[0m\")\n",
    "print('='*50)\n",
    "\n",
    "print(f\"Revenue       : \\033[1m${revenue: ,.2f}\\033[0m\")\n",
    "print(f\"Expenses      : \\033[1m${expenses: ,.2f}\\033[0m\")\n",
    "print(f\"Assets        : \\033[1m${assets: ,.2f}\\033[0m\")\n",
    "print(f\"Profit Margin : \\033[1m{profit_margin: ,.2f}%\\033[0m\")\n",
    "print(f\"Expense Ratio : \\033[1m{expense_ratio: ,.2f}%\\033[0m\")\n",
    "\n",
    "print('-'*50)"
   ]
  },
  {
   "cell_type": "code",
   "execution_count": null,
   "id": "6680f5f6-5238-4ef7-b6ed-7d31383de39c",
   "metadata": {},
   "outputs": [],
   "source": []
  },
  {
   "cell_type": "markdown",
   "id": "c416d167-51df-40f6-b215-bc5e47fc1510",
   "metadata": {},
   "source": [
    "# Step 7: Visualization and Reports"
   ]
  },
  {
   "cell_type": "markdown",
   "id": "7e1b86aa-5c96-44e7-93f4-470ba8468137",
   "metadata": {},
   "source": [
    "### Income vs. Expenses"
   ]
  },
  {
   "cell_type": "code",
   "execution_count": 456,
   "id": "afe431b2-e479-48b8-9847-5f67072a867f",
   "metadata": {},
   "outputs": [
    {
     "data": {
      "image/png": "[encoded data removed]",
      "text/plain": [
       "<Figure size 800x400 with 1 Axes>"
      ]
     },
     "metadata": {},
     "output_type": "display_data"
    }
   ],
   "source": [
    "plt.figure(figsize=(4,2), dpi = 200)\n",
    "summary.plot(kind = 'bar', color = ['#adb5bd', '#212529'], title = 'Income Statement Summary')\n",
    "plt.ylabel('Amount (USD)')\n",
    "plt.xlabel('')\n",
    "plt.xticks(rotation = 0);"
   ]
  },
  {
   "cell_type": "code",
   "execution_count": null,
   "id": "b1d28058-9aa9-475b-a1a8-31ec00af27e4",
   "metadata": {},
   "outputs": [],
   "source": []
  },
  {
   "cell_type": "markdown",
   "id": "c927cb60-c8d8-496f-91d7-d48c3d4d613c",
   "metadata": {},
   "source": [
    "### Balance Sheet Breakdown"
   ]
  },
  {
   "cell_type": "code",
   "execution_count": 458,
   "id": "2cd3b310-12aa-4597-a1f8-97f870de0d50",
   "metadata": {},
   "outputs": [
    {
     "data": {
      "image/png": "[encoded data removed]",
      "text/plain": [
       "<Figure size 400x400 with 1 Axes>"
      ]
     },
     "metadata": {},
     "output_type": "display_data"
    }
   ],
   "source": [
    "plt.figure(figsize = (2,2), dpi = 200)\n",
    "balance_summary.plot.pie(\n",
    "    autopct = '%1.1f%%',\n",
    "    textprops = {'color' : 'white', 'fontsize' : 5},\n",
    "    wedgeprops = {'width': 0.4, 'edgecolor': 'white', },\n",
    "    pctdistance = 0.8,\n",
    "    colors = ['#212529', '#6c757d', '#adb5bd'],\n",
    "    labels = balance_summary.index,\n",
    "    startangle = 90\n",
    ")\n",
    "plt.title('Balance Sheet Breakdown', fontsize = 12)\n",
    "plt.ylabel('')\n",
    "plt.legend(loc = (1.1, 0.6), fontsize = 5);"
   ]
  },
  {
   "cell_type": "code",
   "execution_count": null,
   "id": "96fbdad1-4e11-4a57-b6a9-d7a36fa4d865",
   "metadata": {},
   "outputs": [],
   "source": []
  },
  {
   "cell_type": "markdown",
   "id": "0b5c762c-2f45-47f1-ba13-5c2b72b121ca",
   "metadata": {},
   "source": [
    "### Monthly Revenue Trend"
   ]
  },
  {
   "cell_type": "code",
   "execution_count": 574,
   "id": "5535e17d-6a8c-4bb4-b60d-6a09bfdb223b",
   "metadata": {},
   "outputs": [
    {
     "data": {
      "image/png": "[encoded data removed]",
      "text/plain": [
       "<Figure size 2400x400 with 1 Axes>"
      ]
     },
     "metadata": {},
     "output_type": "display_data"
    }
   ],
   "source": [
    "plt.figure(figsize = (12, 2), dpi = 200)\n",
    "\n",
    "# Group revenue by month\n",
    "monthly_revenue = income_statement[income_statement['AccountType'] == 'Revenue']\n",
    "monthly_revenue = monthly_revenue.groupby(monthly_revenue['Date'].dt.to_period('M'))['Amount'].sum()\n",
    "monthly_revenue.index = monthly_revenue.index.to_timestamp()\n",
    "\n",
    "# Plot trend\n",
    "ax = monthly_revenue.plot(marker = 'o', markerfacecolor = '#212529', color = '#adb5bd')\n",
    "plt.title('Monthly Revenue')\n",
    "ax.set_xlabel('Year-Month')\n",
    "ax.set_ylabel('Revenue (in USD)')\n",
    "\n",
    "# Format axes\n",
    "firstdate = monthly_revenue.index.min()\n",
    "lastdate = monthly_revenue.index.max()\n",
    "ax.set_xlim(firstdate - pd.DateOffset(days = 5), lastdate + pd.DateOffset(days = 32))\n",
    "ax.set_ylim(0,40000)\n",
    "\n",
    "# Adding Data Labels\n",
    "for x, y in zip(monthly_revenue.index, monthly_revenue.values):\n",
    "    ax.text(x, y+4000, f\"${y: ,.0f}\", fontsize = 6, ha = 'center', va = 'top', color = 'black');"
   ]
  },
  {
   "cell_type": "code",
   "execution_count": null,
   "id": "4f0c2f6f-378e-4f81-9f11-e1cf7f6a355a",
   "metadata": {},
   "outputs": [],
   "source": []
  },
  {
   "cell_type": "markdown",
   "id": "df6cfef5-1722-468f-8a51-c28bea162d8a",
   "metadata": {},
   "source": [
    "### Department-wise expenses"
   ]
  },
  {
   "cell_type": "code",
   "execution_count": 576,
   "id": "b940ac86-47fc-4cc1-bc36-92e350780783",
   "metadata": {},
   "outputs": [
    {
     "data": {
      "image/png": "[encoded data removed]",
      "text/plain": [
       "<Figure size 600x400 with 1 Axes>"
      ]
     },
     "metadata": {},
     "output_type": "display_data"
    }
   ],
   "source": [
    "plt.figure(figsize = (3,2), dpi = 200)\n",
    "dept_expenses = income_statement[income_statement['AccountType'] == 'Expense'].groupby('DepartmentName')['Amount'].sum()\n",
    "ax = dept_expenses.plot(kind = 'barh', fontsize = 10, color = '#adb5bd')\n",
    "ax.set_xlabel('')\n",
    "ax.set_ylabel('')\n",
    "ax.set_xticks([])\n",
    "ax.set_xlim(0, 250000)\n",
    "\n",
    "# Add Bar Labels\n",
    "for container in ax.containers:\n",
    "    ax.bar_label(container, fmt = '${: ,.2f}', label_type = 'edge', padding = 5, fontsize = 6)"
   ]
  },
  {
   "cell_type": "code",
   "execution_count": null,
   "id": "fb2f3f85-485a-45e9-857c-b51bae56556b",
   "metadata": {},
   "outputs": [],
   "source": []
  },
  {
   "cell_type": "markdown",
   "id": "4c664697-1d0c-4025-9025-db7b2460cc09",
   "metadata": {},
   "source": [
    "# Step 8: Creating report"
   ]
  },
  {
   "cell_type": "code",
   "execution_count": 532,
   "id": "9d1403c6-6412-42b2-856e-244e50396cbc",
   "metadata": {},
   "outputs": [
    {
     "data": {
      "image/png": "[encoded data removed]",
      "text/plain": [
       "<Figure size 2800x2000 with 4 Axes>"
      ]
     },
     "metadata": {},
     "output_type": "display_data"
    }
   ],
   "source": [
    "fig = plt.figure(figsize = (14,10), dpi = 200)\n",
    "gs = gridspec.GridSpec(3, 2)\n",
    "\n",
    "# Set super title for dashboard\n",
    "plt.suptitle(\n",
    "    'Financial Dashboard: Monthly Revenue Trends & Income Statement Summary',\n",
    "    fontsize=24,\n",
    "    fontweight='bold',\n",
    "    y=1.02  # Push title slightly above the plots\n",
    ")\n",
    "\n",
    "# Assign subplots to grid\n",
    "ax1 = fig.add_subplot(gs[0, 0])\n",
    "ax2 = fig.add_subplot(gs[0, 1])\n",
    "ax3 = fig.add_subplot(gs[1, :])\n",
    "ax4 = fig.add_subplot(gs[2, :])\n",
    "\n",
    "\n",
    "# Income Statement Summary\n",
    "summary.plot(kind = 'bar', color = ['#adb5bd', '#212529'], ax = ax1)\n",
    "ax1.set_title('Income Statement Summary', fontsize = 18, fontweight = 'bold', pad = 10)\n",
    "ax1.set_ylabel('Amount (USD)')\n",
    "ax1.set_xlabel('')\n",
    "ax1.tick_params(axis = 'x', labelrotation = 0)\n",
    "ax1.set_ylim(0,480000)\n",
    "\n",
    "for container in ax1.containers:\n",
    "    ax1.bar_label(container, fmt = '${: ,.2f}', label_type = 'edge', padding = 5, fontsize = 10)\n",
    "\n",
    "\n",
    "# Balance Sheet Breakdown\n",
    "balance_summary.plot.pie(\n",
    "    autopct = '%1.1f%%',\n",
    "    textprops = {'color' : 'white', 'fontsize' : 7},\n",
    "    wedgeprops = {'width': 0.4, 'edgecolor': 'white', },\n",
    "    pctdistance = 0.8,\n",
    "    colors = ['#212529', '#6c757d', '#adb5bd'],\n",
    "    labels = balance_summary.index,\n",
    "    startangle = 90,\n",
    "    ax = ax2\n",
    ")\n",
    "ax2.set_title('Balance Sheet Breakdown', fontsize = 18, fontweight = 'bold')\n",
    "ax2.set_ylabel('')\n",
    "ax2.legend(loc = (1.02, 0.45), fontsize = 12);\n",
    "\n",
    "\n",
    "# Department-Wise Expenses\n",
    "dept_expenses = income_statement[income_statement['AccountType'] == 'Expense'].groupby('DepartmentName')['Amount'].sum()\n",
    "dept_expenses.plot(kind = 'barh', fontsize = 10, color = '#adb5bd', ax = ax3)\n",
    "ax3.set_title('Department-wise Expenses', fontsize = 18, fontweight = 'bold', pad = 12)\n",
    "ax3.set_xlabel('')\n",
    "ax3.set_ylabel('')\n",
    "ax3.set_xticks([])\n",
    "ax3.set_xlim(0, 200000)\n",
    "\n",
    "# Adding Bar Labels\n",
    "for container in ax3.containers:\n",
    "    ax3.bar_label(container, fmt = '${: ,.2f}', label_type = 'edge', padding = 5, fontsize = 10)\n",
    "\n",
    "\n",
    "# Monthly Revenue Trend\n",
    "monthly_revenue = income_statement[income_statement['AccountType'] == 'Revenue']\n",
    "monthly_revenue = monthly_revenue.groupby(monthly_revenue['Date'].dt.to_period('M'))['Amount'].sum()\n",
    "\n",
    "monthly_revenue.index = monthly_revenue.index.to_timestamp()\n",
    "monthly_revenue.plot(marker = 'o', markerfacecolor = '#212529', color = '#adb5bd', ax = ax4)\n",
    "\n",
    "ax4.set_title('Monthly Revenue', fontsize = 18, fontweight = 'bold', pad = 12)\n",
    "ax4.set_xlabel('Year-Month')\n",
    "ax4.set_ylabel('Revenue (in USD)')\n",
    "\n",
    "firstdate = monthly_revenue.index.min()\n",
    "lastdate = monthly_revenue.index.max()\n",
    "\n",
    "ax4.set_xlim(firstdate - pd.DateOffset(days = 5), lastdate + pd.DateOffset(days = 32))\n",
    "ax4.set_ylim(0,40000)\n",
    "\n",
    "\n",
    "# Adding Data Labels\n",
    "for x, y in zip(monthly_revenue.index, monthly_revenue.values):\n",
    "    ax4.text(x, y+4000, f\"${y: ,.0f}\", fontsize = 6, ha = 'center', va = 'top', color = 'black');\n",
    "\n",
    "\n",
    "plt.tight_layout()\n",
    "plt.savefig('financial_dashboard.png');"
   ]
  },
  {
   "cell_type": "code",
   "execution_count": null,
   "id": "a06beb7e-0886-4b2a-a57f-16c4b779495a",
   "metadata": {},
   "outputs": [],
   "source": []
  },
  {
   "cell_type": "code",
   "execution_count": null,
   "id": "403422e0-5514-4fc5-8a1a-0579d4905465",
   "metadata": {},
   "outputs": [],
   "source": []
  }
 ],
 "metadata": {
  "kernelspec": {
   "display_name": "Python [conda env:cvenv]",
   "language": "python",
   "name": "conda-env-cvenv-py"
  },
  "language_info": {
   "codemirror_mode": {
    "name": "ipython",
    "version": 3
   },
   "file_extension": ".py",
   "mimetype": "text/x-python",
   "name": "python",
   "nbconvert_exporter": "python",
   "pygments_lexer": "ipython3",
   "version": "3.12.0"
  }
 },
 "nbformat": 4,
 "nbformat_minor": 5
}
